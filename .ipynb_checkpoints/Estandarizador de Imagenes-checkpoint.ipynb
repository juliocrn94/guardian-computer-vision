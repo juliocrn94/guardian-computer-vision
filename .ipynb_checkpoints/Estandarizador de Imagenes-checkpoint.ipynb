{
 "cells": [
  {
   "cell_type": "code",
   "execution_count": null,
   "metadata": {},
   "outputs": [],
   "source": [
    "#!pip3 install Pillow\n",
    "#!pip3 install opencv-python\n",
    "#!pip3 install ecapture\n"
   ]
  },
  {
   "cell_type": "code",
   "execution_count": 1,
   "metadata": {},
   "outputs": [],
   "source": [
    "from PIL import Image\n",
    "from os import listdir\n",
    "from os.path import isfile, join\n",
    "import numpy as np\n",
    "from tqdm.notebook import tqdm\n",
    "import cv2\n",
    "import pickle"
   ]
  },
  {
   "cell_type": "markdown",
   "metadata": {},
   "source": [
    "### Test"
   ]
  },
  {
   "cell_type": "code",
   "execution_count": null,
   "metadata": {},
   "outputs": [],
   "source": [
    "img = Image.open('./TestImages/Test1.jpg')\n",
    "new_img = img.resize( (200, 133) )\n",
    "new_img=new_img.convert('L')\n",
    "new_img.save( './TestImages/Transformed-Test1.bmp', 'bmp')"
   ]
  },
  {
   "cell_type": "code",
   "execution_count": null,
   "metadata": {},
   "outputs": [],
   "source": [
    "img = Image.open('./FM_dataset/with_mask2/348.png')\n",
    "new_img = img.resize( (20, 20) )\n",
    "new_img=new_img.convert('L')\n",
    "new_img.save( './TestImages/Transformed-Test1.bmp', 'bmp')"
   ]
  },
  {
   "cell_type": "code",
   "execution_count": null,
   "metadata": {},
   "outputs": [],
   "source": [
    "test=imgToVector(new_img)\n",
    "test"
   ]
  },
  {
   "cell_type": "markdown",
   "metadata": {},
   "source": [
    "### Bulk convertion"
   ]
  },
  {
   "cell_type": "code",
   "execution_count": 2,
   "metadata": {},
   "outputs": [],
   "source": [
    "#Funcion para vectorizar imagenes y asignales clasificación\n",
    "def imgToVector(img,x=20,y=20,classification=1):\n",
    "    vector=[]\n",
    "    vector.append(classification)\n",
    "    for j in range(y):\n",
    "        for i in range(x):\n",
    "            vector.append(img.getpixel((i,j)))\n",
    "    return vector\n",
    "        "
   ]
  },
  {
   "cell_type": "code",
   "execution_count": 3,
   "metadata": {},
   "outputs": [],
   "source": [
    "folders=['with_mask','with_mask2','without_mask','without_mask2']\n",
    "paths=['./FM_dataset/' + p for p in folders]\n",
    "files = [f for f in listdir('./FM_dataset/with_mask2')]"
   ]
  },
  {
   "cell_type": "code",
   "execution_count": 4,
   "metadata": {},
   "outputs": [],
   "source": [
    "files=[]\n",
    "for i in range(len(folders)):\n",
    "    files.append([f for f in listdir(paths[i])])\n",
    "    "
   ]
  },
  {
   "cell_type": "code",
   "execution_count": 5,
   "metadata": {},
   "outputs": [
    {
     "data": {
      "application/vnd.jupyter.widget-view+json": {
       "model_id": "d71adfc838fa4c7b975549fe6a9bde1c",
       "version_major": 2,
       "version_minor": 0
      },
      "text/plain": [
       "HBox(children=(FloatProgress(value=0.0, max=690.0), HTML(value='')))"
      ]
     },
     "metadata": {},
     "output_type": "display_data"
    },
    {
     "name": "stdout",
     "output_type": "stream",
     "text": [
      "\n"
     ]
    },
    {
     "data": {
      "application/vnd.jupyter.widget-view+json": {
       "model_id": "b8bcf4de26b5457d8533ce82418c89e7",
       "version_major": 2,
       "version_minor": 0
      },
      "text/plain": [
       "HBox(children=(FloatProgress(value=0.0, max=5869.0), HTML(value='')))"
      ]
     },
     "metadata": {},
     "output_type": "display_data"
    },
    {
     "name": "stdout",
     "output_type": "stream",
     "text": [
      "File: .DS_Store not opened\n",
      "\n"
     ]
    }
   ],
   "source": [
    "vectors_mask=[]\n",
    "f=0\n",
    "for i in tqdm(range(len(files[f]))):\n",
    "    try:\n",
    "        img = Image.open('./FM_dataset/'+folders[f]+'/'+files[f][i])\n",
    "        img = img.resize( (20, 20) )\n",
    "        img = img.convert('L')\n",
    "        vectors_mask.append(imgToVector(img))\n",
    "    except:\n",
    "        print('File:',files[f][i],'not opened')\n",
    "\n",
    "f=1\n",
    "for i in tqdm(range(len(files[f]))):\n",
    "    try:\n",
    "        img = Image.open('./FM_dataset/'+folders[f]+'/'+files[f][i])\n",
    "        img = img.resize( (20, 20) )\n",
    "        img = img.convert('L')\n",
    "        vectors_mask.append(imgToVector(img))\n",
    "    except:\n",
    "        print('File:',files[f][i],'not opened')\n",
    "\n",
    "\n"
   ]
  },
  {
   "cell_type": "code",
   "execution_count": 6,
   "metadata": {},
   "outputs": [
    {
     "data": {
      "application/vnd.jupyter.widget-view+json": {
       "model_id": "9d9b7121b3c04d9185a69dc57423d545",
       "version_major": 2,
       "version_minor": 0
      },
      "text/plain": [
       "HBox(children=(FloatProgress(value=0.0, max=686.0), HTML(value='')))"
      ]
     },
     "metadata": {},
     "output_type": "display_data"
    },
    {
     "name": "stdout",
     "output_type": "stream",
     "text": [
      "\n"
     ]
    },
    {
     "data": {
      "application/vnd.jupyter.widget-view+json": {
       "model_id": "1a5104a4bd8f4dbb9cd524a385e0c8d4",
       "version_major": 2,
       "version_minor": 0
      },
      "text/plain": [
       "HBox(children=(FloatProgress(value=0.0, max=5910.0), HTML(value='')))"
      ]
     },
     "metadata": {},
     "output_type": "display_data"
    },
    {
     "name": "stdout",
     "output_type": "stream",
     "text": [
      "File: .DS_Store not opened\n",
      "\n"
     ]
    }
   ],
   "source": [
    "vectors_nomask=[]\n",
    "f=2\n",
    "for i in tqdm(range(len(files[f]))):\n",
    "    try:\n",
    "        img = Image.open('./FM_dataset/'+folders[f]+'/'+files[f][i])\n",
    "        img = img.resize( (20, 20) )\n",
    "        img = img.convert('L')\n",
    "        vectors_nomask.append(imgToVector(img,classification=0))\n",
    "    except:\n",
    "        print('File:',files[f][i],'not opened')\n",
    "\n",
    "f=3\n",
    "for i in tqdm(range(len(files[f]))):\n",
    "    try:\n",
    "        img = Image.open('./FM_dataset/'+folders[f]+'/'+files[f][i])\n",
    "        img = img.resize( (20, 20) )\n",
    "        img = img.convert('L')\n",
    "        vectors_nomask.append(imgToVector(img,classification=0))\n",
    "    except:\n",
    "        print('File:',files[f][i],'not opened')"
   ]
  },
  {
   "cell_type": "code",
   "execution_count": 25,
   "metadata": {},
   "outputs": [],
   "source": [
    "#pickles con los vectores para entrenamiento\n",
    "pickle.dump(vectors_mask,open(\"mask\",\"wb\"))\n",
    "pickle.dump(vectors_nomask,open(\"nomask\",\"wb\"))\n"
   ]
  },
  {
   "cell_type": "code",
   "execution_count": null,
   "metadata": {},
   "outputs": [],
   "source": [
    "# Reconstructor de imagenes de vectores\n",
    "def reconstructor(vector,x=20,y=20)\n",
    "    reb=Image.new('L',(x,y))\n",
    "    for j in range(y):\n",
    "        for i in range(x):\n",
    "            reb.putpixel((i,j),vector[i+j*x+1]) \n",
    "    return reb"
   ]
  },
  {
   "cell_type": "code",
   "execution_count": null,
   "metadata": {},
   "outputs": [],
   "source": [
    "from ecapture import ecapture as ec\n",
    "\n",
    "x=ec.capture(0,False,'img.jpg')"
   ]
  },
  {
   "cell_type": "code",
   "execution_count": null,
   "metadata": {},
   "outputs": [],
   "source": [
    "type(x)"
   ]
  },
  {
   "cell_type": "code",
   "execution_count": null,
   "metadata": {},
   "outputs": [],
   "source": [
    "import cv2\n",
    "\n",
    "cam = cv2.VideoCapture(0)\n",
    "\n",
    "cv2.namedWindow(\"test\")\n",
    "\n",
    "img_counter = 0\n",
    "\n",
    "while True:\n",
    "    ret, frame = cam.read()\n",
    "    if not ret:\n",
    "        print(\"failed to grab frame\")\n",
    "        break\n",
    "    cv2.imshow(\"test\", frame)\n",
    "\n",
    "    k = cv2.waitKey(1)\n",
    "    if k%256 == 27:\n",
    "        # ESC pressed\n",
    "        print(\"Escape hit, closing...\")\n",
    "        break\n",
    "    elif k%256 == 32:\n",
    "        # SPACE pressed\n",
    "        img_name = \"opencv_frame_{}.png\".format(img_counter)\n",
    "        cv2.imwrite(img_name, frame)\n",
    "        print(\"{} written!\".format(img_name))\n",
    "        img_counter += 1\n",
    "\n",
    "cam.release()\n",
    "\n",
    "cv2.destroyAllWindows()"
   ]
  },
  {
   "cell_type": "code",
   "execution_count": 24,
   "metadata": {},
   "outputs": [],
   "source": [
    "pickle_mask.close()"
   ]
  },
  {
   "cell_type": "code",
   "execution_count": null,
   "metadata": {},
   "outputs": [],
   "source": []
  }
 ],
 "metadata": {
  "kernelspec": {
   "display_name": "Python 3",
   "language": "python",
   "name": "python3"
  },
  "language_info": {
   "codemirror_mode": {
    "name": "ipython",
    "version": 3
   },
   "file_extension": ".py",
   "mimetype": "text/x-python",
   "name": "python",
   "nbconvert_exporter": "python",
   "pygments_lexer": "ipython3",
   "version": "3.7.7"
  }
 },
 "nbformat": 4,
 "nbformat_minor": 4
}
