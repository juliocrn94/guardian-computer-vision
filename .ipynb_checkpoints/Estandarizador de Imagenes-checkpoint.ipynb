{
 "cells": [
  {
   "cell_type": "code",
   "execution_count": null,
   "metadata": {},
   "outputs": [],
   "source": [
    "#!pip3 install Pillow\n",
    "#!pip3 install opencv-python\n",
    "#!pip3 install ecapture\n"
   ]
  },
  {
   "cell_type": "code",
   "execution_count": 2,
   "metadata": {},
   "outputs": [],
   "source": [
    "from PIL import Image\n",
    "from os import listdir\n",
    "from os.path import isfile, join\n",
    "import numpy as np\n",
    "from tqdm.notebook import tqdm\n",
    "import cv2\n",
    "import pickle"
   ]
  },
  {
   "cell_type": "markdown",
   "metadata": {},
   "source": [
    "### Bulk convertion"
   ]
  },
  {
   "cell_type": "code",
   "execution_count": 3,
   "metadata": {},
   "outputs": [],
   "source": [
    "#Funcion para vectorizar imagenes y asignales clasificación\n",
    "xVectorSize=20\n",
    "yVectorSize=20\n",
    "\n",
    "def imgToVector(img,x=xVectorSize,y=yVectorSize,classification=1):\n",
    "    vector=[]\n",
    "    vector.append(classification)\n",
    "    for j in range(y):\n",
    "        for i in range(x):\n",
    "            vector.append(img.getpixel((i,j)))\n",
    "    return vector\n",
    "folders=['with_mask','with_mask2','without_mask','without_mask2']\n",
    "paths=['./FM_dataset/' + p for p in folders]\n",
    "\n",
    "files=[]\n",
    "for i in range(len(folders)):\n",
    "    files.append([f for f in listdir(paths[i])])"
   ]
  },
  {
   "cell_type": "code",
   "execution_count": 5,
   "metadata": {},
   "outputs": [
    {
     "data": {
      "application/vnd.jupyter.widget-view+json": {
       "model_id": "ffde24b4322841db82e643dfa0345883",
       "version_major": 2,
       "version_minor": 0
      },
      "text/plain": [
       "HBox(children=(FloatProgress(value=0.0, max=690.0), HTML(value='')))"
      ]
     },
     "metadata": {},
     "output_type": "display_data"
    },
    {
     "name": "stdout",
     "output_type": "stream",
     "text": [
      "\n"
     ]
    },
    {
     "data": {
      "application/vnd.jupyter.widget-view+json": {
       "model_id": "ab8aa2d0da064288a7bdaa06e7ed111b",
       "version_major": 2,
       "version_minor": 0
      },
      "text/plain": [
       "HBox(children=(FloatProgress(value=0.0, max=5869.0), HTML(value='')))"
      ]
     },
     "metadata": {},
     "output_type": "display_data"
    },
    {
     "name": "stdout",
     "output_type": "stream",
     "text": [
      "File: .DS_Store not opened\n",
      "\n"
     ]
    }
   ],
   "source": [
    "vectors_mask=[]\n",
    "f=0\n",
    "for i in tqdm(range(len(files[f]))):\n",
    "    try:\n",
    "        img = Image.open('./FM_dataset/'+folders[f]+'/'+files[f][i])\n",
    "        img = img.resize( (xVectorSize, yVectorSize) )\n",
    "        img = img.convert('L')\n",
    "        vectors_mask.append(imgToVector(img))\n",
    "    except:\n",
    "        print('File:',files[f][i],'not opened')\n",
    "\n",
    "f=1\n",
    "for i in tqdm(range(len(files[f]))):\n",
    "    try:\n",
    "        img = Image.open('./FM_dataset/'+folders[f]+'/'+files[f][i])\n",
    "        img = img.resize( (xVectorSize, yVectorSize) )\n",
    "        img = img.convert('L')\n",
    "        vectors_mask.append(imgToVector(img))\n",
    "    except:\n",
    "        print('File:',files[f][i],'not opened')\n",
    "\n",
    "pickle.dump(vectors_mask,open(\"mask\"+str(xVectorSize)+\"x\"+str(yVectorSize)+\".pickle\",\"wb\"))\n"
   ]
  },
  {
   "cell_type": "code",
   "execution_count": 6,
   "metadata": {},
   "outputs": [
    {
     "data": {
      "application/vnd.jupyter.widget-view+json": {
       "model_id": "7e0c76603a49414f9f6e48b838d8ffef",
       "version_major": 2,
       "version_minor": 0
      },
      "text/plain": [
       "HBox(children=(FloatProgress(value=0.0, max=686.0), HTML(value='')))"
      ]
     },
     "metadata": {},
     "output_type": "display_data"
    },
    {
     "name": "stdout",
     "output_type": "stream",
     "text": [
      "\n"
     ]
    },
    {
     "data": {
      "application/vnd.jupyter.widget-view+json": {
       "model_id": "ad24846fdf1240a48feb5f640f8f031a",
       "version_major": 2,
       "version_minor": 0
      },
      "text/plain": [
       "HBox(children=(FloatProgress(value=0.0, max=5910.0), HTML(value='')))"
      ]
     },
     "metadata": {},
     "output_type": "display_data"
    },
    {
     "name": "stdout",
     "output_type": "stream",
     "text": [
      "File: .DS_Store not opened\n",
      "\n"
     ]
    }
   ],
   "source": [
    "vectors_nomask=[]\n",
    "f=2\n",
    "for i in tqdm(range(len(files[f]))):\n",
    "    try:\n",
    "        img = Image.open('./FM_dataset/'+folders[f]+'/'+files[f][i])\n",
    "        img = img.resize( (xVectorSize, yVectorSize) )\n",
    "        img = img.convert('L')\n",
    "        vectors_nomask.append(imgToVector(img,classification=0))\n",
    "    except:\n",
    "        print('File:',files[f][i],'not opened')\n",
    "\n",
    "f=3\n",
    "for i in tqdm(range(len(files[f]))):\n",
    "    try:\n",
    "        img = Image.open('./FM_dataset/'+folders[f]+'/'+files[f][i])\n",
    "        img = img.resize( (xVectorSize, yVectorSize) )\n",
    "        img = img.convert('L')\n",
    "        vectors_nomask.append(imgToVector(img,classification=0))\n",
    "    except:\n",
    "        print('File:',files[f][i],'not opened')\n",
    "\n",
    "pickle.dump(vectors_mask,open(\"nomask\"+str(xVectorSize)+\"x\"+str(yVectorSize)+\".pickle\",\"wb\"))"
   ]
  },
  {
   "cell_type": "code",
   "execution_count": 7,
   "metadata": {},
   "outputs": [],
   "source": [
    "# Reconstructor de imagenes de vectores\n",
    "def reconstructor(vector,x=xVectorSize,y=yVectorSize):\n",
    "    reb=Image.new('L',(x,y))\n",
    "    for j in range(y):\n",
    "        for i in range(x):\n",
    "            reb.putpixel((i,j),vector[i+j*x+1]) \n",
    "    return reb"
   ]
  },
  {
   "cell_type": "code",
   "execution_count": null,
   "metadata": {},
   "outputs": [],
   "source": []
  }
 ],
 "metadata": {
  "kernelspec": {
   "display_name": "Python 3",
   "language": "python",
   "name": "python3"
  },
  "language_info": {
   "codemirror_mode": {
    "name": "ipython",
    "version": 3
   },
   "file_extension": ".py",
   "mimetype": "text/x-python",
   "name": "python",
   "nbconvert_exporter": "python",
   "pygments_lexer": "ipython3",
   "version": "3.7.7"
  }
 },
 "nbformat": 4,
 "nbformat_minor": 4
}
