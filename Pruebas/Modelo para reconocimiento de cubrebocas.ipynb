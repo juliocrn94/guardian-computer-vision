{
 "cells": [
  {
   "cell_type": "code",
   "execution_count": null,
   "metadata": {},
   "outputs": [],
   "source": [
    "#!pip3 install sklearn\n",
    "#!pip3 install xgboost"
   ]
  },
  {
   "cell_type": "markdown",
   "metadata": {},
   "source": [
    "## 1. Librerias, Funciones y Parámetros Iniciales"
   ]
  },
  {
   "cell_type": "code",
   "execution_count": 1,
   "metadata": {},
   "outputs": [],
   "source": [
    "from PIL import Image\n",
    "import os\n",
    "from os import listdir\n",
    "from os.path import isfile, join\n",
    "import numpy as np\n",
    "from tqdm.notebook import tqdm\n",
    "import cv2\n",
    "import pickle\n",
    "from sklearn.model_selection import train_test_split as tts\n",
    "import pandas as pd\n",
    "from time import sleep\n",
    "from IPython.display import clear_output\n",
    "import numpy as np\n",
    "\n",
    "xVectorSize=100\n",
    "yVectorSize=100\n",
    "\n",
    "def getImageVector(img):\n",
    "    #img = Image.open(img)\n",
    "    img = img.resize( (xVectorSize, yVectorSize) )\n",
    "    img = img.convert('L')\n",
    "    return imgToVector(img) \n",
    "\n",
    "#Funcion para vectorizar imagenes y asignales clasificación\n",
    "def imgToVector(img,x=xVectorSize,y=yVectorSize,classification=1):\n",
    "    vector=[]\n",
    "    vector.append(classification)\n",
    "\n",
    "    for j in range(y):\n",
    "        for i in range(x):\n",
    "            vector.append(img.getpixel((i,j)))\n",
    "    return vector\n",
    "\n",
    "def reconstructor(vector,x=xVectorSize,y=yVectorSize):\n",
    "    reb=Image.new('L',(x,y))\n",
    "    for j in range(y):\n",
    "        for i in range(x):\n",
    "            reb.putpixel((i,j),vector[i+j*x]) \n",
    "    return reb\n",
    "\n",
    "def rescale_frame(frame, percent=75):\n",
    "    width = int(frame.shape[1] * percent/ 100)\n",
    "    height = int(frame.shape[0] * percent/ 100)\n",
    "    dim = (width, height)\n",
    "    return cv2.resize(frame, dim, interpolation =cv2.INTER_AREA)\n",
    "\n",
    "def faceslocation(imgpath,foi='file'):\n",
    "    if foi=='file':\n",
    "        original_image = cv2.imread(imgpath)\n",
    "    elif foi==\"img\":\n",
    "        original_image = imgpath\n",
    "    \n",
    "    \n",
    "    grayscale_image = cv2.cvtColor(original_image, cv2.COLOR_BGR2GRAY)\n",
    "    face_cascade = cv2.CascadeClassifier('haarcascade_frontalface_alt.xml')\n",
    "    detected_faces = face_cascade.detectMultiScale(grayscale_image)\n",
    "    return detected_faces\n",
    "\n",
    "def getfaces(imgpath, foi='file'):\n",
    "    \n",
    "    if foi == 'file':\n",
    "        source = Image.open(imgpath)\n",
    "        source = source.convert('L')\n",
    "        detected_faces=faceslocation(imgpath)\n",
    "    elif foi == 'img':\n",
    "        source = cv2.cvtColor(imgpath, cv2.COLOR_BGR2GRAY)\n",
    "        detected_faces=faceslocation(imgpath,foi=\"img\")\n",
    "        \n",
    "    faces=[]\n",
    "    \n",
    "    for i in detected_faces:\n",
    "        tlbr=list(i)\n",
    "        \n",
    "        x=int(tlbr[2])\n",
    "        y=int(tlbr[3])\n",
    "        x_offset=int(tlbr[0])\n",
    "        y_offset=int(tlbr[1])\n",
    "        \n",
    "        if foi == 'file':\n",
    "            face=Image.new('L',(x,y))\n",
    "            for j in range(y):\n",
    "                for i in range(x):\n",
    "                    pixel=source.getpixel((i+x_offset,j+y_offset))\n",
    "                    face.putpixel((i,j),pixel) \n",
    "            faces.append(face)\n",
    "        elif foi == 'img':\n",
    "            face=np.array()\n",
    "            for j in range(y):\n",
    "                for i in range(x):\n",
    "                    pixel=source[i+x_offset,j+y_offset]\n",
    "                    face.putpixel((i,j),pixel) \n",
    "            faces.append(face)\n",
    "    \n",
    "    mask=[] \n",
    "    for face in faces:\n",
    "        X=pd.DataFrame(getImageVector(face)).T\n",
    "        X=X.drop(0,axis=1)\n",
    "        pred=xgbc.predict(X)\n",
    "        mask.append(pred)\n",
    "           \n",
    "    return faces,mask\n",
    "\n",
    "def textInImage(img,text='Prueba Texto'):\n",
    "    font                   = cv2.FONT_HERSHEY_SIMPLEX\n",
    "    bottomLeftCornerOfText = (50,50)\n",
    "    fontScale              = 1\n",
    "    fontColor              = (255,255,255)\n",
    "    lineType               = 2\n",
    "\n",
    "    cv2.putText(img,text, \n",
    "        bottomLeftCornerOfText, \n",
    "        font, \n",
    "        fontScale,\n",
    "        fontColor,\n",
    "        lineType)\n",
    "    \n",
    "def idSquare(imgpath,fl,pred,foi='file'):\n",
    "    if foi == 'file':\n",
    "        img = cv2.imread(imgpath)\n",
    "    elif foi == 'img':\n",
    "        img=imgpath\n",
    "        \n",
    "\n",
    "    for i in range(len(fl)):\n",
    "        \n",
    "        column=fl[i][0]\n",
    "        row=fl[i][1]\n",
    "        width=fl[i][2]\n",
    "        height=fl[i][3]\n",
    "        \n",
    "        if pred[i][0]== 0:\n",
    "            color=(0,0,255)\n",
    "        else:\n",
    "            color =(0,255,0)\n",
    "        \n",
    "        cv2.rectangle(\n",
    "            img,\n",
    "            (column, row),\n",
    "            (column + width, row + height),\n",
    "            color,\n",
    "            2)\n",
    "    \n",
    "    return img\n",
    "\n",
    "def maskdetector(imgpath,foi='file'):\n",
    "    if foi == 'file':\n",
    "        original_image = cv2.imread(imgpath)\n",
    "        detected_faces=faceslocation(imgpath)\n",
    "        faces,mask=getfaces(imgpath)\n",
    "        img=idSquare(imgpath,detected_faces,mask)\n",
    "    elif foi == 'img':\n",
    "        detected_faces=faceslocation(imgpath,foi='img')\n",
    "        faces,mask=getfaces(imgpath,foi='img')\n",
    "        img=idSquare(imgpath,detected_faces,mask, foi='img')\n",
    "        \n",
    "    return img"
   ]
  },
  {
   "cell_type": "markdown",
   "metadata": {},
   "source": [
    "## 2.Carga de modelo guardado"
   ]
  },
  {
   "cell_type": "code",
   "execution_count": 2,
   "metadata": {},
   "outputs": [],
   "source": [
    "xgbc = []\n",
    "with (open(\"xgbc100x100\", \"rb\")) as openfile:\n",
    "    while True:\n",
    "        try:\n",
    "            xgbc.append(pickle.load(openfile))\n",
    "        except EOFError:\n",
    "            break\n",
    "xgbc=xgbc[0]"
   ]
  },
  {
   "cell_type": "markdown",
   "metadata": {},
   "source": [
    "## 3.Captura desde Cámara y Aplicación de Modelo para deteccion de rostros con y sin cubrebocas"
   ]
  },
  {
   "cell_type": "code",
   "execution_count": null,
   "metadata": {},
   "outputs": [],
   "source": [
    "cam = cv2.VideoCapture(0)\n",
    "cv2.startWindowThread()\n",
    "\n",
    "cv2.namedWindow(\"test\")\n",
    "\n",
    "stop=False\n",
    "while stop==False:\n",
    "    ret, frame = cam.read()\n",
    "    imgpath='current_img.png'\n",
    "    cv2.imwrite(imgpath, frame)\n",
    "    \n",
    "    #clear_output(wait=True)\n",
    "    img=maskdetector(imgpath)\n",
    "    #img=maskdetector(frame,'img')\n",
    "    try:\n",
    "        frame50 = rescale_frame(img,percent=50)\n",
    "        cv2.imshow(\"test\", frame50)\n",
    "    except:\n",
    "        pass\n",
    "\n",
    "        \n",
    "    \n",
    "     \n",
    "    k = cv2.waitKey(1)\n",
    "    if k%256 == 27: # ESC pressed\n",
    "        print(\"Escape hit, closing...\")\n",
    "        stop=True\n",
    "    \n",
    "\n",
    "cam.release()\n",
    "cv2.waitKey(1)\n",
    "cv2.destroyAllWindows()\n",
    "cv2.waitKey(1)\n",
    "print('End')"
   ]
  },
  {
   "cell_type": "markdown",
   "metadata": {},
   "source": [
    "## Rutinas de Prueba"
   ]
  },
  {
   "cell_type": "markdown",
   "metadata": {},
   "source": [
    "### A. Apertura de Imagen para vectorizacion y despliegue"
   ]
  },
  {
   "cell_type": "code",
   "execution_count": 3,
   "metadata": {},
   "outputs": [
    {
     "data": {
      "image/png": "[encoded data removed]",
      "text/plain": [
       "<PIL.Image.Image image mode=L size=100x100 at 0x1032AC490>"
      ]
     },
     "execution_count": 3,
     "metadata": {},
     "output_type": "execute_result"
    }
   ],
   "source": [
    "img=Image.open('current_img.png')\n",
    "X=pd.DataFrame(getImageVector(img)).T\n",
    "X=X.drop(0,axis=1)\n",
    "prediccion=xgbc.predict(X)\n",
    "X=list(X.T[0])\n",
    "grayscale_image=reconstructor(X)\n",
    "grayscale_image"
   ]
  },
  {
   "cell_type": "markdown",
   "metadata": {},
   "source": [
    "### B. Obteneción de Imagen de Webcam"
   ]
  },
  {
   "cell_type": "code",
   "execution_count": 4,
   "metadata": {},
   "outputs": [
    {
     "name": "stdout",
     "output_type": "stream",
     "text": [
      "Release\n",
      "Destroy\n",
      "End\n"
     ]
    }
   ],
   "source": [
    "cam = cv2.VideoCapture(0)\n",
    "cv2.namedWindow(\"test\")\n",
    "ret, frame = cam.read()\n",
    "frame50 = rescale_frame(frame,percent=50)\n",
    "cv2.imshow(\"test\", frame50)\n",
    "\n",
    "cv2.imwrite(\"current_img.png\", frame)\n",
    "print('Release')\n",
    "cam.release()\n",
    "print('Destroy')\n",
    "cv2.destroyAllWindows()\n",
    "print('End')"
   ]
  },
  {
   "cell_type": "markdown",
   "metadata": {},
   "source": [
    "### C. Despliegue de caras detectadas"
   ]
  },
  {
   "cell_type": "code",
   "execution_count": 12,
   "metadata": {},
   "outputs": [
    {
     "name": "stdout",
     "output_type": "stream",
     "text": [
      "11\n",
      "[0]\n"
     ]
    },
    {
     "data": {
      "image/png": "[encoded data removed]",
      "text/plain": [
       "<PIL.Image.Image image mode=L size=28x28 at 0x12A66FAD0>"
      ]
     },
     "metadata": {},
     "output_type": "display_data"
    },
    {
     "name": "stdout",
     "output_type": "stream",
     "text": [
      "[0]\n"
     ]
    },
    {
     "data": {
      "image/png": "[encoded data removed]",
      "text/plain": [
       "<PIL.Image.Image image mode=L size=44x44 at 0x12A66F590>"
      ]
     },
     "metadata": {},
     "output_type": "display_data"
    },
    {
     "name": "stdout",
     "output_type": "stream",
     "text": [
      "[0]\n"
     ]
    },
    {
     "data": {
      "image/png": "[encoded data removed]",
      "text/plain": [
       "<PIL.Image.Image image mode=L size=44x44 at 0x12A66F910>"
      ]
     },
     "metadata": {},
     "output_type": "display_data"
    },
    {
     "name": "stdout",
     "output_type": "stream",
     "text": [
      "[0]\n"
     ]
    },
    {
     "data": {
      "image/png": "[encoded data removed]",
      "text/plain": [
       "<PIL.Image.Image image mode=L size=47x47 at 0x12A66FDD0>"
      ]
     },
     "metadata": {},
     "output_type": "display_data"
    },
    {
     "name": "stdout",
     "output_type": "stream",
     "text": [
      "[1]\n"
     ]
    },
    {
     "data": {
      "image/png": "[encoded data removed]",
      "text/plain": [
       "<PIL.Image.Image image mode=L size=56x56 at 0x12A66F390>"
      ]
     },
     "metadata": {},
     "output_type": "display_data"
    },
    {
     "name": "stdout",
     "output_type": "stream",
     "text": [
      "[1]\n"
     ]
    },
    {
     "data": {
      "image/png": "[encoded data removed]",
      "text/plain": [
       "<PIL.Image.Image image mode=L size=46x46 at 0x12A69D150>"
      ]
     },
     "metadata": {},
     "output_type": "display_data"
    },
    {
     "name": "stdout",
     "output_type": "stream",
     "text": [
      "[1]\n"
     ]
    },
    {
     "data": {
      "image/png": "[encoded data removed]",
      "text/plain": [
       "<PIL.Image.Image image mode=L size=40x40 at 0x12A69D0D0>"
      ]
     },
     "metadata": {},
     "output_type": "display_data"
    },
    {
     "name": "stdout",
     "output_type": "stream",
     "text": [
      "[1]\n"
     ]
    },
    {
     "data": {
      "image/png": "[encoded data removed]",
      "text/plain": [
       "<PIL.Image.Image image mode=L size=48x48 at 0x12A69D110>"
      ]
     },
     "metadata": {},
     "output_type": "display_data"
    },
    {
     "name": "stdout",
     "output_type": "stream",
     "text": [
      "[1]\n"
     ]
    },
    {
     "data": {
      "image/png": "[encoded data removed]",
      "text/plain": [
       "<PIL.Image.Image image mode=L size=56x56 at 0x12A69D1D0>"
      ]
     },
     "metadata": {},
     "output_type": "display_data"
    },
    {
     "name": "stdout",
     "output_type": "stream",
     "text": [
      "[1]\n"
     ]
    },
    {
     "data": {
      "image/png": "[encoded data removed]",
      "text/plain": [
       "<PIL.Image.Image image mode=L size=65x65 at 0x12A69D210>"
      ]
     },
     "metadata": {},
     "output_type": "display_data"
    },
    {
     "name": "stdout",
     "output_type": "stream",
     "text": [
      "[0]\n"
     ]
    },
    {
     "data": {
      "image/png": "[encoded data removed]",
      "text/plain": [
       "<PIL.Image.Image image mode=L size=62x62 at 0x12A691A90>"
      ]
     },
     "metadata": {},
     "output_type": "display_data"
    }
   ],
   "source": [
    "imgpath='TestImages/Test2.jpg'\n",
    "faces,mask=getfaces(imgpath)\n",
    "print(len(faces))\n",
    "#for i in range(len(faces)):\n",
    "#    print(mask[i])\n",
    "#    display(faces[i])"
   ]
  },
  {
   "cell_type": "markdown",
   "metadata": {},
   "source": [
    "### D. Cuadros de Identificacion"
   ]
  },
  {
   "cell_type": "code",
   "execution_count": null,
   "metadata": {},
   "outputs": [],
   "source": [
    "\n"
   ]
  },
  {
   "cell_type": "code",
   "execution_count": null,
   "metadata": {},
   "outputs": [],
   "source": []
  },
  {
   "cell_type": "code",
   "execution_count": null,
   "metadata": {},
   "outputs": [],
   "source": []
  },
  {
   "cell_type": "markdown",
   "metadata": {},
   "source": [
    "## Rutinas para entrenar nuevos modelos"
   ]
  },
  {
   "cell_type": "code",
   "execution_count": null,
   "metadata": {},
   "outputs": [],
   "source": [
    "#Cargando datos para entrenar\n",
    "\n",
    "mask = []\n",
    "with (open(\"mask.pickle\", \"rb\")) as openfile:\n",
    "    while True:\n",
    "        try:\n",
    "            mask.append(pickle.load(openfile))\n",
    "        except EOFError:\n",
    "            break\n",
    "mask=mask[0]\n",
    "\n",
    "nomask = []\n",
    "with (open(\"nomask.pickle\", \"rb\")) as openfile:\n",
    "    while True:\n",
    "        try:\n",
    "            nomask.append(pickle.load(openfile))\n",
    "        except EOFError:\n",
    "            break\n",
    "nomask=nomask[0]\n",
    "\n",
    "XYTrain=mask+nomask\n",
    "XYTrain = pd.DataFrame(XYTrain)\n",
    "\n",
    "X_train, X_test, y_train, y_test=tts(XYTrain.drop(0, axis=1),XYTrain[0], test_size=0.2, random_state=101)\n",
    "#X_train, X_test, y_train, y_test=tts(XYTrain.drop(0, axis=1),XYTrain[0], test_size=1, random_state=101)"
   ]
  },
  {
   "cell_type": "code",
   "execution_count": null,
   "metadata": {},
   "outputs": [],
   "source": [
    "from xgboost import XGBClassifier as XGBC\n",
    "\n",
    "xgbc=XGBC()\n",
    "xgbc.fit(X_train, y_train)\n",
    "\n",
    "train_score=xgbc.score(X_train, y_train)\n",
    "test_score=xgbc.score(X_test, y_test)\n",
    "\n",
    "print (train_score, test_score)\n",
    "\n",
    "pickle.dump(xgbc,open(\"xgbc\",\"wb\"))"
   ]
  }
 ],
 "metadata": {
  "kernelspec": {
   "display_name": "Python 3",
   "language": "python",
   "name": "python3"
  },
  "language_info": {
   "codemirror_mode": {
    "name": "ipython",
    "version": 3
   },
   "file_extension": ".py",
   "mimetype": "text/x-python",
   "name": "python",
   "nbconvert_exporter": "python",
   "pygments_lexer": "ipython3",
   "version": "3.7.7"
  }
 },
 "nbformat": 4,
 "nbformat_minor": 4
}
