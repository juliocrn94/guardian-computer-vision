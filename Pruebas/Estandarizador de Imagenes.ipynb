{
 "cells": [
  {
   "cell_type": "code",
   "execution_count": null,
   "metadata": {},
   "outputs": [],
   "source": [
    "#!pip3 install Pillow\n",
    "#!pip3 install opencv-python\n",
    "#!pip3 install ecapture\n"
   ]
  },
  {
   "cell_type": "code",
   "execution_count": 1,
   "metadata": {},
   "outputs": [],
   "source": [
    "from PIL import Image\n",
    "from os import listdir\n",
    "from os.path import isfile, join\n",
    "import numpy as np\n",
    "from tqdm.notebook import tqdm\n",
    "import cv2\n",
    "import pickle"
   ]
  },
  {
   "cell_type": "markdown",
   "metadata": {},
   "source": [
    "### Bulk convertion"
   ]
  },
  {
   "cell_type": "code",
   "execution_count": 2,
   "metadata": {},
   "outputs": [],
   "source": [
    "xVectorSize=100\n",
    "yVectorSize=100\n",
    "\n",
    "#Funcion para vectorizar imagenes y asignales clasificación\n",
    "def imgToVector(img,x=xVectorSize,y=yVectorSize,classification=1):\n",
    "    vector=[]\n",
    "    vector.append(classification)\n",
    "    for j in range(y):\n",
    "        for i in range(x):\n",
    "            vector.append(img.getpixel((i,j)))\n",
    "    return vector\n",
    "\n",
    "folders=['with_mask','with_mask2','without_mask','without_mask2']\n",
    "paths=['./FM_dataset/' + p for p in folders]\n",
    "files = [f for f in listdir('./FM_dataset/with_mask2')]     \n",
    "\n",
    "files=[]\n",
    "for i in range(len(folders)):\n",
    "    files.append([f for f in listdir(paths[i])])\n",
    "    "
   ]
  },
  {
   "cell_type": "code",
   "execution_count": null,
   "metadata": {},
   "outputs": [],
   "source": [
    "vectors_mask=[]\n",
    "f=0\n",
    "for i in tqdm(range(len(files[f]))):\n",
    "    try:\n",
    "        img = Image.open('./FM_dataset/'+folders[f]+'/'+files[f][i])\n",
    "        img = img.resize( (xVectorSize, yVectorSize) )\n",
    "        img = img.convert('L')\n",
    "        vectors_mask.append(imgToVector(img))\n",
    "    except:\n",
    "        print('File:',files[f][i],'not opened')\n",
    "\n",
    "f=1\n",
    "for i in tqdm(range(len(files[f]))):\n",
    "    try:\n",
    "        img = Image.open('./FM_dataset/'+folders[f]+'/'+files[f][i])\n",
    "        img = img.resize( (xVectorSize, yVectorSize) )\n",
    "        img = img.convert('L')\n",
    "        vectors_mask.append(imgToVector(img))\n",
    "    except:\n",
    "        print('File:',files[f][i],'not opened')\n",
    "\n",
    "pickle.dump(vectors_mask,open(\"mask.pickle\",\"wb\"))\n"
   ]
  },
  {
   "cell_type": "code",
   "execution_count": null,
   "metadata": {},
   "outputs": [],
   "source": [
    "vectors_nomask=[]\n",
    "f=2\n",
    "for i in tqdm(range(len(files[f]))):\n",
    "    try:\n",
    "        img = Image.open('./FM_dataset/'+folders[f]+'/'+files[f][i])\n",
    "        img = img.resize( (xVectorSize, yVectorSize) )\n",
    "        img = img.convert('L')\n",
    "        vectors_nomask.append(imgToVector(img,classification=0))\n",
    "    except:\n",
    "        print('File:',files[f][i],'not opened')\n",
    "\n",
    "f=3\n",
    "for i in tqdm(range(len(files[f]))):\n",
    "    try:\n",
    "        img = Image.open('./FM_dataset/'+folders[f]+'/'+files[f][i])\n",
    "        img = img.resize( (xVectorSize, yVectorSize) )\n",
    "        img = img.convert('L')\n",
    "        vectors_nomask.append(imgToVector(img,classification=0))\n",
    "    except:\n",
    "        print('File:',files[f][i],'not opened')\n",
    "\n",
    "pickle.dump(vectors_nomask,open(\"nomask.pickle\",\"wb\"))"
   ]
  },
  {
   "cell_type": "code",
   "execution_count": 4,
   "metadata": {},
   "outputs": [],
   "source": [
    "# Reconstructor de imagenes de vectores\n",
    "def reconstructor(vector,x=xVectorSize,y=yVectorSize):\n",
    "    reb=Image.new('L',(x,y))\n",
    "    for j in range(y):\n",
    "        for i in range(x):\n",
    "            reb.putpixel((i,j),vector[i+j*x+1]) \n",
    "    return reb"
   ]
  },
  {
   "cell_type": "code",
   "execution_count": null,
   "metadata": {},
   "outputs": [],
   "source": []
  }
 ],
 "metadata": {
  "kernelspec": {
   "display_name": "Python 3",
   "language": "python",
   "name": "python3"
  },
  "language_info": {
   "codemirror_mode": {
    "name": "ipython",
    "version": 3
   },
   "file_extension": ".py",
   "mimetype": "text/x-python",
   "name": "python",
   "nbconvert_exporter": "python",
   "pygments_lexer": "ipython3",
   "version": "3.7.7"
  }
 },
 "nbformat": 4,
 "nbformat_minor": 4
}
