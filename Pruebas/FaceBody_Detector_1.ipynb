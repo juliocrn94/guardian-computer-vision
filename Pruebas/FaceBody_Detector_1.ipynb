{
 "cells": [
  {
   "cell_type": "code",
<<<<<<< HEAD
<<<<<<< HEAD
   "execution_count": null,
=======
   "execution_count": 1,
>>>>>>> 3c47c5d8a6ce1cb1e287e042f541015c671a1e14
=======
   "execution_count": 1,
>>>>>>> 3c47c5d8a6ce1cb1e287e042f541015c671a1e14
   "metadata": {},
   "outputs": [],
   "source": [
    "import numpy as np\n",
    "import cv2\n",
    "import os\n",
<<<<<<< HEAD
<<<<<<< HEAD
    "from imutils.object_detection import non_max_suppression"
=======
    "from imutils.object_detection import non_max_suppression\n",
    "from PIL import Image"
>>>>>>> 3c47c5d8a6ce1cb1e287e042f541015c671a1e14
=======
    "from imutils.object_detection import non_max_suppression\n",
    "from PIL import Image"
>>>>>>> 3c47c5d8a6ce1cb1e287e042f541015c671a1e14
   ]
  },
  {
   "cell_type": "code",
<<<<<<< HEAD
<<<<<<< HEAD
   "execution_count": null,
=======
   "execution_count": 2,
>>>>>>> 3c47c5d8a6ce1cb1e287e042f541015c671a1e14
=======
   "execution_count": 2,
>>>>>>> 3c47c5d8a6ce1cb1e287e042f541015c671a1e14
   "metadata": {},
   "outputs": [],
   "source": [
    "# initialize the HOG descriptor/person detector\n",
    "body_det = cv2.HOGDescriptor()\n",
    "body_det.setSVMDetector(cv2.HOGDescriptor_getDefaultPeopleDetector())\n",
    "\n",
    "face_det = cv2.CascadeClassifier(os.path.join('./models/haarcascade_frontalface_default.xml'))\n",
    "\n",
    "cv2.startWindowThread()\n",
    "\n",
    "# open webcam video stream\n",
    "cap = cv2.VideoCapture(0)\n",
    "\n",
    "# the output will be written to output.avi\n",
    "out = cv2.VideoWriter(\n",
    "    'output.avi',\n",
    "    cv2.VideoWriter_fourcc(*'MJPG'),\n",
    "    15.,\n",
    "    (640,480))"
   ]
  },
  {
   "cell_type": "code",
   "execution_count": null,
   "metadata": {},
   "outputs": [],
   "source": [
<<<<<<< HEAD
<<<<<<< HEAD
=======
    "label_d = {0:\"No_Mask\",1:\"Mask\"}\n",
    "\n",
>>>>>>> 3c47c5d8a6ce1cb1e287e042f541015c671a1e14
=======
    "label_d = {0:\"No_Mask\",1:\"Mask\"}\n",
    "\n",
>>>>>>> 3c47c5d8a6ce1cb1e287e042f541015c671a1e14
    "while(True):\n",
    "    # Capture frame-by-frame\n",
    "    ret, frame = cap.read()\n",
    "\n",
    "    # resizing for faster detection\n",
    "    frame = cv2.resize(frame, (640, 480))\n",
    "    # flipping image to mirror\n",
    "    frame =cv2.flip(frame,1,1) \n",
    "    \n",
    "    # using a greyscale picture, also for faster detection\n",
    "    gray = cv2.cvtColor(frame, cv2.COLOR_RGB2GRAY)\n",
    "    \n",
    "    # detect people in the image\n",
    "    # returns the bounding boxes for the detected people\n",
    "    # TRY WITH GRAY AND FRAME\n",
    "    body_boxes, weights = body_det.detectMultiScale(gray, winStride=(8,8) )\n",
    "    body_boxes = np.array([[x, y, x + w, y + h] for (x, y, w, h) in body_boxes])\n",
    "    \n",
    "    # detect faces in the image\n",
    "    # returns the bounding boxes for the detected faces\n",
    "    face_boxes = face_det.detectMultiScale(gray)\n",
    "    face_boxes = np.array([[x, y, x + w, y + h] for (x, y, w, h) in face_boxes])\n",
    "    \n",
    "    # apply non-maxima suppression to the bounding boxes using overlap threshold to try to maintain overlapping\n",
    "    # boxes that are still identificable\n",
    "    body_pick = non_max_suppression(body_boxes, probs=None, overlapThresh=0.65)\n",
    "    face_pick = non_max_suppression(face_boxes, probs=None, overlapThresh=0.65)\n",
    "    \n",
<<<<<<< HEAD
<<<<<<< HEAD
    "    for (xA, yA, xB, yB) in body_boxes:\n",
    "        # display the detected boxes in the colour picture\n",
    "        cv2.rectangle(frame, (xA, yA), (xB, yB), (0, 255, 0), 2)\n",
    "        cv2.putText(frame, \"human\", (xA, yA-10),cv2.FONT_HERSHEY_SIMPLEX,0.8,(255,255,255),2)\n",
    "        \n",
    "    for (xA, yA, xB, yB) in face_boxes:\n",
    "        # display the detected boxes in the colour picture\n",
    "        cv2.rectangle(frame, (xA, yA), (xB, yB), (255, 0, 0), 2)\n",
    "        \n",
    "    \n",
=======
=======
>>>>>>> 3c47c5d8a6ce1cb1e287e042f541015c671a1e14
    "    \n",
    "    for (xA, yA, xB, yB) in body_pick:\n",
    "        # display the detected boxes in the colour picture\n",
    "        cv2.rectangle(frame, (xA, yA), (xB, yB), (0, 255, 0), 2)\n",
    "        cv2.putText(frame, \"human\", (xA, yA-10),cv2.FONT_HERSHEY_SIMPLEX,0.5,(255,255,255),2)\n",
    "    \n",
    "    for (xA, yA, xB, yB) in face_pick:\n",
    "        # display the detected boxes in the colour picture\n",
    "        cv2.rectangle(frame, (xA, yA), (xB, yB), (255, 0, 0), 2)\n",
    "        cv2.putText(frame, \"face\", (xA, yA-10),cv2.FONT_HERSHEY_SIMPLEX,0.5,(255,255,255),2)\n",
    "        \n",
<<<<<<< HEAD
>>>>>>> 3c47c5d8a6ce1cb1e287e042f541015c671a1e14
=======
>>>>>>> 3c47c5d8a6ce1cb1e287e042f541015c671a1e14
    "    # Write the output video \n",
    "    out.write(frame.astype('uint8'))\n",
    "    # Display the resulting frame\n",
    "    cv2.imshow('frame',frame)\n",
    "    if cv2.waitKey(1) & 0xFF == ord('q'):\n",
    "        break\n",
    "    "
   ]
  },
  {
   "cell_type": "code",
<<<<<<< HEAD
<<<<<<< HEAD
   "execution_count": null,
=======
   "execution_count": 13,
>>>>>>> 3c47c5d8a6ce1cb1e287e042f541015c671a1e14
=======
   "execution_count": 13,
>>>>>>> 3c47c5d8a6ce1cb1e287e042f541015c671a1e14
   "metadata": {},
   "outputs": [],
   "source": [
    "# When everything done, release the capture\n",
    "cap.release()\n",
    "# and release the output\n",
<<<<<<< HEAD
<<<<<<< HEAD
    "out.release()\n",
=======
    "# out.release()\n",
>>>>>>> 3c47c5d8a6ce1cb1e287e042f541015c671a1e14
=======
    "# out.release()\n",
>>>>>>> 3c47c5d8a6ce1cb1e287e042f541015c671a1e14
    "# finally, close the window\n",
    "for i in range(1,10):\n",
    "    cv2.destroyAllWindows()\n",
    "    cv2.waitKey(1)"
   ]
  },
  {
   "cell_type": "code",
   "execution_count": null,
   "metadata": {},
   "outputs": [],
   "source": []
  }
 ],
 "metadata": {
  "kernelspec": {
   "display_name": "Python 3",
   "language": "python",
   "name": "python3"
  },
  "language_info": {
   "codemirror_mode": {
    "name": "ipython",
    "version": 3
   },
   "file_extension": ".py",
   "mimetype": "text/x-python",
   "name": "python",
   "nbconvert_exporter": "python",
   "pygments_lexer": "ipython3",
   "version": "3.7.7"
  }
 },
 "nbformat": 4,
 "nbformat_minor": 4
}
