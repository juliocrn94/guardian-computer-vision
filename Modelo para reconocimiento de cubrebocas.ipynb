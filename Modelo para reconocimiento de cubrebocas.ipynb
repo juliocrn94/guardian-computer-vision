{
 "cells": [
  {
   "cell_type": "code",
   "execution_count": 1,
   "metadata": {},
   "outputs": [],
   "source": [
    "#!pip3 install sklearn\n",
    "#!pip3 install xgboost"
   ]
  },
  {
   "cell_type": "code",
   "execution_count": 1,
   "metadata": {},
   "outputs": [],
   "source": [
    "from PIL import Image\n",
    "import os\n",
    "from os import listdir\n",
    "from os.path import isfile, join\n",
    "import numpy as np\n",
    "from tqdm.notebook import tqdm\n",
    "import cv2\n",
    "import pickle\n",
    "from sklearn.model_selection import train_test_split as tts\n",
    "import pandas as pd\n",
    "from time import sleep\n",
    "\n",
    "def getImageVector(img):\n",
    "    #img = Image.open(img)\n",
    "    img = img.resize( (100, 100) )\n",
    "    img = img.convert('L')\n",
    "    return imgToVector(img) \n",
    "\n",
    "#Funcion para vectorizar imagenes y asignales clasificación\n",
    "def imgToVector(img,x=100,y=100,classification=1):\n",
    "    vector=[]\n",
    "    vector.append(classification)\n",
    "\n",
    "    for j in range(y):\n",
    "        for i in range(x):\n",
    "            vector.append(img.getpixel((i,j)))\n",
    "    return vector\n",
    "\n",
    "def reconstructor(vector,x=100,y=100):\n",
    "    reb=Image.new('L',(x,y))\n",
    "    for j in range(y):\n",
    "        for i in range(x):\n",
    "            reb.putpixel((i,j),vector[i+j*x]) \n",
    "    return reb\n",
    "\n",
    "def rescale_frame(frame, percent=75):\n",
    "    width = int(frame.shape[1] * percent/ 100)\n",
    "    height = int(frame.shape[0] * percent/ 100)\n",
    "    dim = (width, height)\n",
    "    return cv2.resize(frame, dim, interpolation =cv2.INTER_AREA)\n",
    "\n",
    "def getfaces(img):\n",
    "    \n",
    "    source = Image.open(img)\n",
    "    source = source.convert('L')\n",
    "    \n",
    "    original_image = cv2.imread(img)\n",
    "    grayscale_image = cv2.cvtColor(original_image, cv2.COLOR_BGR2GRAY)\n",
    "    face_cascade = cv2.CascadeClassifier('haarcascade_frontalface_alt.xml')\n",
    "    detected_faces = face_cascade.detectMultiScale(grayscale_image)\n",
    "    \n",
    "    faces=[]\n",
    "    \n",
    "    for i in detected_faces:\n",
    "        tlbr=list(i)\n",
    "        \n",
    "        x=int(tlbr[2])\n",
    "        y=int(tlbr[3])\n",
    "        x_offset=int(tlbr[0])\n",
    "        y_offset=int(tlbr[1])\n",
    "\n",
    "        face=Image.new('L',(x,y))\n",
    "\n",
    "        source\n",
    "        for j in range(y):\n",
    "            for i in range(x):\n",
    "                pixel=source.getpixel((i+x_offset,j+y_offset))\n",
    "                face.putpixel((i,j),pixel) \n",
    "        faces.append(face)\n",
    "\n",
    "    return faces\n"
   ]
  },
  {
   "cell_type": "code",
   "execution_count": 2,
   "metadata": {},
   "outputs": [],
   "source": [
    "#Carga de modelo guardado\n",
    "xgbc = []\n",
    "with (open(\"xgbc\", \"rb\")) as openfile:\n",
    "    while True:\n",
    "        try:\n",
    "            xgbc.append(pickle.load(openfile))\n",
    "        except EOFError:\n",
    "            break\n",
    "xgbc=xgbc[0]"
   ]
  },
  {
   "cell_type": "code",
   "execution_count": 7,
   "metadata": {},
   "outputs": [
    {
     "name": "stdout",
     "output_type": "stream",
     "text": [
      "💀 0\n",
      "💀 0\n",
      "💀 0\n",
      "💀 0\n",
      "💀 0\n",
      "💀 0\n",
      "💀 0\n",
      "😷 0\n",
      "😷 0\n",
      "💀 0\n",
      "💀 0\n",
      "💀 0\n",
      "😷 0\n",
      "💀 0\n",
      "😷 0\n",
      "😷 0\n",
      "💀 0\n",
      "😷 0\n",
      "💀 0\n",
      "💀 0\n",
      "💀 0\n",
      "😷 0\n",
      "💀 0\n",
      "💀 0\n",
      "💀 0\n",
      "💀 0\n",
      "😷 0\n",
      "😷 0\n",
      "😷 0\n",
      "😷 0\n",
      "😷 0\n",
      "😷 0\n",
      "😷 0\n",
      "😷 0\n",
      "😷 0\n",
      "😷 0\n",
      "😷 0\n",
      "💀 0\n",
      "💀 0\n",
      "💀 0\n",
      "💀 0\n",
      "💀 0\n",
      "💀 0\n",
      "💀 0\n",
      "💀 0\n",
      "💀 0\n",
      "💀 0\n",
      "💀 0\n",
      "💀 0\n",
      "😷 0\n",
      "😷 0\n",
      "😷 0\n",
      "💀 0\n",
      "😷 0\n",
      "💀 0\n",
      "😷 0\n",
      "😷 0\n",
      "😷 0\n",
      "😷 0\n",
      "😷 0\n",
      "😷 0\n",
      "😷 0\n",
      "💀 0\n",
      "💀 0\n",
      "💀 0\n",
      "💀 0\n",
      "💀 0\n",
      "💀 0\n",
      "💀 0\n",
      "💀 0\n"
     ]
    },
    {
     "ename": "KeyboardInterrupt",
     "evalue": "",
     "output_type": "error",
     "traceback": [
      "\u001b[0;31m---------------------------------------------------------------------------\u001b[0m",
      "\u001b[0;31mKeyboardInterrupt\u001b[0m                         Traceback (most recent call last)",
      "\u001b[0;32m<ipython-input-7-2aca3bae83da>\u001b[0m in \u001b[0;36m<module>\u001b[0;34m\u001b[0m\n\u001b[1;32m     13\u001b[0m \u001b[0;34m\u001b[0m\u001b[0m\n\u001b[1;32m     14\u001b[0m     \u001b[0mcv2\u001b[0m\u001b[0;34m.\u001b[0m\u001b[0mimwrite\u001b[0m\u001b[0;34m(\u001b[0m\u001b[0mimg\u001b[0m\u001b[0;34m,\u001b[0m \u001b[0mframe\u001b[0m\u001b[0;34m)\u001b[0m\u001b[0;34m\u001b[0m\u001b[0;34m\u001b[0m\u001b[0m\n\u001b[0;32m---> 15\u001b[0;31m     \u001b[0mfaces\u001b[0m\u001b[0;34m=\u001b[0m\u001b[0mgetfaces\u001b[0m\u001b[0;34m(\u001b[0m\u001b[0mimg\u001b[0m\u001b[0;34m)\u001b[0m\u001b[0;34m\u001b[0m\u001b[0;34m\u001b[0m\u001b[0m\n\u001b[0m\u001b[1;32m     16\u001b[0m \u001b[0;34m\u001b[0m\u001b[0m\n\u001b[1;32m     17\u001b[0m     \u001b[0;32mfor\u001b[0m \u001b[0mi\u001b[0m \u001b[0;32min\u001b[0m \u001b[0mrange\u001b[0m\u001b[0;34m(\u001b[0m\u001b[0mlen\u001b[0m\u001b[0;34m(\u001b[0m\u001b[0mfaces\u001b[0m\u001b[0;34m)\u001b[0m\u001b[0;34m)\u001b[0m\u001b[0;34m:\u001b[0m\u001b[0;34m\u001b[0m\u001b[0;34m\u001b[0m\u001b[0m\n",
      "\u001b[0;32m<ipython-input-1-194e1bceb877>\u001b[0m in \u001b[0;36mgetfaces\u001b[0;34m(img)\u001b[0m\n\u001b[1;32m     48\u001b[0m     \u001b[0mgrayscale_image\u001b[0m \u001b[0;34m=\u001b[0m \u001b[0mcv2\u001b[0m\u001b[0;34m.\u001b[0m\u001b[0mcvtColor\u001b[0m\u001b[0;34m(\u001b[0m\u001b[0moriginal_image\u001b[0m\u001b[0;34m,\u001b[0m \u001b[0mcv2\u001b[0m\u001b[0;34m.\u001b[0m\u001b[0mCOLOR_BGR2GRAY\u001b[0m\u001b[0;34m)\u001b[0m\u001b[0;34m\u001b[0m\u001b[0;34m\u001b[0m\u001b[0m\n\u001b[1;32m     49\u001b[0m     \u001b[0mface_cascade\u001b[0m \u001b[0;34m=\u001b[0m \u001b[0mcv2\u001b[0m\u001b[0;34m.\u001b[0m\u001b[0mCascadeClassifier\u001b[0m\u001b[0;34m(\u001b[0m\u001b[0;34m'haarcascade_frontalface_alt.xml'\u001b[0m\u001b[0;34m)\u001b[0m\u001b[0;34m\u001b[0m\u001b[0;34m\u001b[0m\u001b[0m\n\u001b[0;32m---> 50\u001b[0;31m     \u001b[0mdetected_faces\u001b[0m \u001b[0;34m=\u001b[0m \u001b[0mface_cascade\u001b[0m\u001b[0;34m.\u001b[0m\u001b[0mdetectMultiScale\u001b[0m\u001b[0;34m(\u001b[0m\u001b[0mgrayscale_image\u001b[0m\u001b[0;34m)\u001b[0m\u001b[0;34m\u001b[0m\u001b[0;34m\u001b[0m\u001b[0m\n\u001b[0m\u001b[1;32m     51\u001b[0m \u001b[0;34m\u001b[0m\u001b[0m\n\u001b[1;32m     52\u001b[0m     \u001b[0mfaces\u001b[0m\u001b[0;34m=\u001b[0m\u001b[0;34m[\u001b[0m\u001b[0;34m]\u001b[0m\u001b[0;34m\u001b[0m\u001b[0;34m\u001b[0m\u001b[0m\n",
      "\u001b[0;31mKeyboardInterrupt\u001b[0m: "
     ]
    }
   ],
   "source": [
    "cam = cv2.VideoCapture(0)\n",
    "\n",
    "cv2.namedWindow(\"test\")\n",
    "\n",
    "while True:\n",
    "    ret, frame = cam.read()\n",
    "    if not ret:\n",
    "        print(\"failed to grab frame\")\n",
    "        break\n",
    "    frame50 = rescale_frame(frame,percent=50)\n",
    "    #cv2.imshow(\"test\", frame50)\n",
    "    img='current_img.png'\n",
    "    \n",
    "    cv2.imwrite(img, frame)\n",
    "    faces=getfaces(img)\n",
    "    \n",
    "    for i in range(len(faces)):\n",
    "        \n",
    "        X=pd.DataFrame(getImageVector(faces[i])).T\n",
    "        X=X.drop(0,axis=1)\n",
    "        prediccion=xgbc.predict(X)\n",
    "        X=list(X.T[0])\n",
    "        print('💀',i) if prediccion == 0 else print('😷',i)\n",
    "    \n",
    "    #sleep(1)    \n",
    "    k = cv2.waitKey(1)\n",
    "    if k%256 == 27:\n",
    "        # ESC pressed\n",
    "        print(\"Escape hit, closing...\")\n",
    "        break\n",
    "    \n",
    "\n",
    "print('Release')\n",
    "cam.release()\n",
    "print('Destroy')\n",
    "cv2.waitKey(1)\n",
    "cv2.destroyAllWindows()\n",
    "cv2.waitKey(1)\n",
    "print('End')"
   ]
  },
  {
   "cell_type": "code",
   "execution_count": 4,
   "metadata": {},
   "outputs": [
    {
     "ename": "AttributeError",
     "evalue": "'str' object has no attribute 'resize'",
     "output_type": "error",
     "traceback": [
      "\u001b[0;31m---------------------------------------------------------------------------\u001b[0m",
      "\u001b[0;31mAttributeError\u001b[0m                            Traceback (most recent call last)",
      "\u001b[0;32m<ipython-input-4-e277d3d646ad>\u001b[0m in \u001b[0;36m<module>\u001b[0;34m\u001b[0m\n\u001b[1;32m      1\u001b[0m \u001b[0mimg\u001b[0m\u001b[0;34m=\u001b[0m\u001b[0;34m'current_img.png'\u001b[0m\u001b[0;34m\u001b[0m\u001b[0;34m\u001b[0m\u001b[0m\n\u001b[0;32m----> 2\u001b[0;31m \u001b[0mX\u001b[0m\u001b[0;34m=\u001b[0m\u001b[0mpd\u001b[0m\u001b[0;34m.\u001b[0m\u001b[0mDataFrame\u001b[0m\u001b[0;34m(\u001b[0m\u001b[0mgetImageVector\u001b[0m\u001b[0;34m(\u001b[0m\u001b[0mimg\u001b[0m\u001b[0;34m)\u001b[0m\u001b[0;34m)\u001b[0m\u001b[0;34m.\u001b[0m\u001b[0mT\u001b[0m\u001b[0;34m\u001b[0m\u001b[0;34m\u001b[0m\u001b[0m\n\u001b[0m\u001b[1;32m      3\u001b[0m \u001b[0mX\u001b[0m\u001b[0;34m=\u001b[0m\u001b[0mX\u001b[0m\u001b[0;34m.\u001b[0m\u001b[0mdrop\u001b[0m\u001b[0;34m(\u001b[0m\u001b[0;36m0\u001b[0m\u001b[0;34m,\u001b[0m\u001b[0maxis\u001b[0m\u001b[0;34m=\u001b[0m\u001b[0;36m1\u001b[0m\u001b[0;34m)\u001b[0m\u001b[0;34m\u001b[0m\u001b[0;34m\u001b[0m\u001b[0m\n\u001b[1;32m      4\u001b[0m \u001b[0mprediccion\u001b[0m\u001b[0;34m=\u001b[0m\u001b[0mxgbc\u001b[0m\u001b[0;34m.\u001b[0m\u001b[0mpredict\u001b[0m\u001b[0;34m(\u001b[0m\u001b[0mX\u001b[0m\u001b[0;34m)\u001b[0m\u001b[0;34m\u001b[0m\u001b[0;34m\u001b[0m\u001b[0m\n\u001b[1;32m      5\u001b[0m \u001b[0mX\u001b[0m\u001b[0;34m=\u001b[0m\u001b[0mlist\u001b[0m\u001b[0;34m(\u001b[0m\u001b[0mX\u001b[0m\u001b[0;34m.\u001b[0m\u001b[0mT\u001b[0m\u001b[0;34m[\u001b[0m\u001b[0;36m0\u001b[0m\u001b[0;34m]\u001b[0m\u001b[0;34m)\u001b[0m\u001b[0;34m\u001b[0m\u001b[0;34m\u001b[0m\u001b[0m\n",
      "\u001b[0;32m<ipython-input-1-194e1bceb877>\u001b[0m in \u001b[0;36mgetImageVector\u001b[0;34m(img)\u001b[0m\n\u001b[1;32m     13\u001b[0m \u001b[0;32mdef\u001b[0m \u001b[0mgetImageVector\u001b[0m\u001b[0;34m(\u001b[0m\u001b[0mimg\u001b[0m\u001b[0;34m)\u001b[0m\u001b[0;34m:\u001b[0m\u001b[0;34m\u001b[0m\u001b[0;34m\u001b[0m\u001b[0m\n\u001b[1;32m     14\u001b[0m     \u001b[0;31m#img = Image.open(img)\u001b[0m\u001b[0;34m\u001b[0m\u001b[0;34m\u001b[0m\u001b[0;34m\u001b[0m\u001b[0m\n\u001b[0;32m---> 15\u001b[0;31m     \u001b[0mimg\u001b[0m \u001b[0;34m=\u001b[0m \u001b[0mimg\u001b[0m\u001b[0;34m.\u001b[0m\u001b[0mresize\u001b[0m\u001b[0;34m(\u001b[0m \u001b[0;34m(\u001b[0m\u001b[0;36m100\u001b[0m\u001b[0;34m,\u001b[0m \u001b[0;36m100\u001b[0m\u001b[0;34m)\u001b[0m \u001b[0;34m)\u001b[0m\u001b[0;34m\u001b[0m\u001b[0;34m\u001b[0m\u001b[0m\n\u001b[0m\u001b[1;32m     16\u001b[0m     \u001b[0mimg\u001b[0m \u001b[0;34m=\u001b[0m \u001b[0mimg\u001b[0m\u001b[0;34m.\u001b[0m\u001b[0mconvert\u001b[0m\u001b[0;34m(\u001b[0m\u001b[0;34m'L'\u001b[0m\u001b[0;34m)\u001b[0m\u001b[0;34m\u001b[0m\u001b[0;34m\u001b[0m\u001b[0m\n\u001b[1;32m     17\u001b[0m     \u001b[0;32mreturn\u001b[0m \u001b[0mimgToVector\u001b[0m\u001b[0;34m(\u001b[0m\u001b[0mimg\u001b[0m\u001b[0;34m)\u001b[0m\u001b[0;34m\u001b[0m\u001b[0;34m\u001b[0m\u001b[0m\n",
      "\u001b[0;31mAttributeError\u001b[0m: 'str' object has no attribute 'resize'"
     ]
    }
   ],
   "source": [
    "img='current_img.png'\n",
    "X=pd.DataFrame(getImageVector(img)).T\n",
    "X=X.drop(0,axis=1)\n",
    "prediccion=xgbc.predict(X)\n",
    "X=list(X.T[0])\n",
    "grayscale_image=reconstructor(X)\n",
    "grayscale_image"
   ]
  },
  {
   "cell_type": "code",
   "execution_count": 7,
   "metadata": {},
   "outputs": [
    {
     "name": "stdout",
     "output_type": "stream",
     "text": [
      "Release\n",
      "Destroy\n",
      "End\n"
     ]
    }
   ],
   "source": [
    "#Obtener Imagen de Webcam\n",
    "\n",
    "cam = cv2.VideoCapture(0)\n",
    "cv2.namedWindow(\"test\")\n",
    "ret, frame = cam.read()\n",
    "frame50 = rescale_frame(frame,percent=50)\n",
    "cv2.imshow(\"test\", frame50)\n",
    "\n",
    "cv2.imwrite(\"current_img.png\", frame)\n",
    "print('Release')\n",
    "cam.release()\n",
    "print('Destroy')\n",
    "cv2.destroyAllWindows()\n",
    "print('End')"
   ]
  },
  {
   "cell_type": "code",
   "execution_count": 4,
   "metadata": {},
   "outputs": [],
   "source": []
  },
  {
   "cell_type": "code",
   "execution_count": 3,
   "metadata": {},
   "outputs": [
    {
     "data": {
      "text/plain": [
       "-1"
      ]
     },
     "execution_count": 3,
     "metadata": {},
     "output_type": "execute_result"
    }
   ],
   "source": [
    "cv2.startWindowThread()\n",
    "cv2.imshow('Image', grayscale_image)\n",
    "cv2.waitKey(1)\n",
    "cv2.destroyAllWindows()\n",
    "cv2.waitKey(1)"
   ]
  },
  {
   "cell_type": "code",
   "execution_count": 48,
   "metadata": {},
   "outputs": [
    {
     "data": {
      "image/png": "[encoded data removed]",
      "text/plain": [
       "<PIL.Image.Image image mode=L size=152x152 at 0x123A2EE50>"
      ]
     },
     "execution_count": 48,
     "metadata": {},
     "output_type": "execute_result"
    }
   ],
   "source": [
    "faces=getfaces('current_img.png')\n",
    "faces[0]"
   ]
  },
  {
   "cell_type": "code",
   "execution_count": null,
   "metadata": {},
   "outputs": [],
   "source": [
    "import cv2\n",
    "grayscale_image=cv2.imread('current_img.png')\n",
    "face_cascade = cv2.CascadeClassifier('haarcascade_frontalface_alt.xml')\n",
    "detected_faces = face_cascade.detectMultiScale(grayscale_image)\n",
    "\n",
    "for (column, row, width, height) in detected_faces:\n",
    "    cv2.rectangle(\n",
    "        grayscale_image,\n",
    "        (column, row),\n",
    "        (column + width, row + height),\n",
    "        (0, 255, 0),\n",
    "        2\n",
    "    )"
   ]
  },
  {
   "cell_type": "code",
   "execution_count": null,
   "metadata": {},
   "outputs": [],
   "source": []
  },
  {
   "cell_type": "code",
   "execution_count": null,
   "metadata": {},
   "outputs": [],
   "source": []
  },
  {
   "cell_type": "code",
   "execution_count": null,
   "metadata": {},
   "outputs": [],
   "source": []
  },
  {
   "cell_type": "code",
   "execution_count": null,
   "metadata": {},
   "outputs": [],
   "source": []
  },
  {
   "cell_type": "code",
   "execution_count": null,
   "metadata": {},
   "outputs": [],
   "source": []
  },
  {
   "cell_type": "markdown",
   "metadata": {},
   "source": [
    "## Rutinas para entrenar nuevos modelos"
   ]
  },
  {
   "cell_type": "code",
   "execution_count": 5,
   "metadata": {},
   "outputs": [],
   "source": [
    "#Cargando datos para entrenar\n",
    "\n",
    "mask = []\n",
    "with (open(\"mask.pickle\", \"rb\")) as openfile:\n",
    "    while True:\n",
    "        try:\n",
    "            mask.append(pickle.load(openfile))\n",
    "        except EOFError:\n",
    "            break\n",
    "mask=mask[0]\n",
    "\n",
    "nomask = []\n",
    "with (open(\"nomask.pickle\", \"rb\")) as openfile:\n",
    "    while True:\n",
    "        try:\n",
    "            nomask.append(pickle.load(openfile))\n",
    "        except EOFError:\n",
    "            break\n",
    "nomask=nomask[0]\n",
    "\n",
    "XYTrain=mask+nomask\n",
    "XYTrain = pd.DataFrame(XYTrain)\n",
    "\n",
    "X_train, X_test, y_train, y_test=tts(XYTrain.drop(0, axis=1),XYTrain[0], test_size=0.2, random_state=101)\n",
    "#X_train, X_test, y_train, y_test=tts(XYTrain.drop(0, axis=1),XYTrain[0], test_size=1, random_state=101)"
   ]
  },
  {
   "cell_type": "code",
   "execution_count": 8,
   "metadata": {},
   "outputs": [
    {
     "name": "stdout",
     "output_type": "stream",
     "text": [
      "1.0 0.9422272900038008\n"
     ]
    }
   ],
   "source": [
    "from xgboost import XGBClassifier as XGBC\n",
    "\n",
    "xgbc=XGBC()\n",
    "xgbc.fit(X_train, y_train)\n",
    "\n",
    "train_score=xgbc.score(X_train, y_train)\n",
    "test_score=xgbc.score(X_test, y_test)\n",
    "\n",
    "print (train_score, test_score)\n",
    "\n",
    "pickle.dump(xgbc,open(\"xgbc\",\"wb\"))"
   ]
  }
 ],
 "metadata": {
  "kernelspec": {
   "display_name": "Python 3",
   "language": "python",
   "name": "python3"
  },
  "language_info": {
   "codemirror_mode": {
    "name": "ipython",
    "version": 3
   },
   "file_extension": ".py",
   "mimetype": "text/x-python",
   "name": "python",
   "nbconvert_exporter": "python",
   "pygments_lexer": "ipython3",
   "version": "3.7.7"
  }
 },
 "nbformat": 4,
 "nbformat_minor": 4
}
