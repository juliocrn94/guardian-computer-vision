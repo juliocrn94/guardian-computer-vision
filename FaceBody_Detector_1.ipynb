{
 "cells": [
  {
   "cell_type": "code",
<<<<<<< HEAD
   "execution_count": 9,
=======
<<<<<<< HEAD
<<<<<<< HEAD
   "execution_count": null,
=======
   "execution_count": 1,
>>>>>>> 3c47c5d8a6ce1cb1e287e042f541015c671a1e14
=======
   "execution_count": 1,
>>>>>>> 3c47c5d8a6ce1cb1e287e042f541015c671a1e14
>>>>>>> 14999b48d1ad385287342cfaf42497e1c3b09641
   "metadata": {},
   "outputs": [],
   "source": [
    "import numpy as np\n",
    "import cv2\n",
    "import os\n",
<<<<<<< HEAD
<<<<<<< HEAD
    "from imutils.object_detection import non_max_suppression"
=======
    "from imutils.object_detection import non_max_suppression\n",
<<<<<<< HEAD
    "from PIL import Image\n",
    "from statistics import mean\n",
    "import math  \n",
    "from playsound import playsound"
=======
    "from PIL import Image"
>>>>>>> 3c47c5d8a6ce1cb1e287e042f541015c671a1e14
=======
    "from imutils.object_detection import non_max_suppression\n",
    "from PIL import Image"
>>>>>>> 3c47c5d8a6ce1cb1e287e042f541015c671a1e14
>>>>>>> 14999b48d1ad385287342cfaf42497e1c3b09641
   ]
  },
  {
   "cell_type": "code",
<<<<<<< HEAD
   "execution_count": 11,
=======
<<<<<<< HEAD
<<<<<<< HEAD
   "execution_count": null,
=======
   "execution_count": 2,
>>>>>>> 3c47c5d8a6ce1cb1e287e042f541015c671a1e14
=======
   "execution_count": 2,
>>>>>>> 3c47c5d8a6ce1cb1e287e042f541015c671a1e14
>>>>>>> 14999b48d1ad385287342cfaf42497e1c3b09641
   "metadata": {},
   "outputs": [],
   "source": [
    "# initialize the HOG descriptor/person detector\n",
    "body_det = cv2.HOGDescriptor()\n",
    "body_det.setSVMDetector(cv2.HOGDescriptor_getDefaultPeopleDetector())\n",
    "\n",
    "face_det = cv2.CascadeClassifier(os.path.join('./models/haarcascade_frontalface_default.xml'))\n",
    "\n",
    "cv2.startWindowThread()\n",
    "\n",
    "# open webcam video stream\n",
    "cap = cv2.VideoCapture(0)\n",
    "\n",
    "# the output will be written to output.avi\n",
    "out = cv2.VideoWriter(\n",
    "    'output.avi',\n",
    "    cv2.VideoWriter_fourcc(*'MJPG'),\n",
    "    15.,\n",
    "    (640,480))"
   ]
  },
  {
   "cell_type": "code",
   "execution_count": 12,
   "metadata": {},
   "outputs": [
    {
     "name": "stdout",
     "output_type": "stream",
     "text": [
      "type:  <class 'list'>\n",
      "type:  <class 'list'>\n",
      "type:  <class 'list'>\n",
      "type:  <class 'list'>\n",
      "type:  <class 'numpy.ndarray'>\n",
      "Only 1 Person in Frame\n",
      "type:  <class 'list'>\n",
      "type:  <class 'list'>\n",
      "type:  <class 'list'>\n",
      "type:  <class 'list'>\n",
      "type:  <class 'list'>\n",
      "type:  <class 'list'>\n",
      "type:  <class 'list'>\n",
      "type:  <class 'list'>\n",
      "type:  <class 'list'>\n",
      "type:  <class 'list'>\n",
      "type:  <class 'list'>\n",
      "type:  <class 'list'>\n",
      "type:  <class 'numpy.ndarray'>\n",
      "Only 1 Person in Frame\n",
      "type:  <class 'list'>\n",
      "type:  <class 'list'>\n",
      "type:  <class 'numpy.ndarray'>\n",
      "Only 1 Person in Frame\n",
      "type:  <class 'list'>\n",
      "type:  <class 'list'>\n",
      "type:  <class 'list'>\n",
      "type:  <class 'numpy.ndarray'>\n",
      "Only 1 Person in Frame\n",
      "type:  <class 'list'>\n",
      "type:  <class 'list'>\n",
      "type:  <class 'numpy.ndarray'>\n",
      "Only 1 Person in Frame\n",
      "type:  <class 'numpy.ndarray'>\n",
      "Only 1 Person in Frame\n",
      "type:  <class 'numpy.ndarray'>\n",
      "Only 1 Person in Frame\n",
      "type:  <class 'numpy.ndarray'>\n",
      "Only 1 Person in Frame\n",
      "type:  <class 'list'>\n",
      "type:  <class 'numpy.ndarray'>\n",
      "Only 1 Person in Frame\n",
      "type:  <class 'list'>\n",
      "type:  <class 'list'>\n",
      "type:  <class 'numpy.ndarray'>\n",
      "Only 1 Person in Frame\n",
      "type:  <class 'numpy.ndarray'>\n",
      "Only 1 Person in Frame\n",
      "type:  <class 'numpy.ndarray'>\n",
      "Only 1 Person in Frame\n",
      "type:  <class 'numpy.ndarray'>\n",
      "Only 1 Person in Frame\n",
      "type:  <class 'numpy.ndarray'>\n",
      "Only 1 Person in Frame\n",
      "type:  <class 'numpy.ndarray'>\n",
      "Only 1 Person in Frame\n",
      "type:  <class 'list'>\n",
      "type:  <class 'numpy.ndarray'>\n",
      "Only 1 Person in Frame\n",
      "type:  <class 'numpy.ndarray'>\n",
      "Only 1 Person in Frame\n",
      "type:  <class 'numpy.ndarray'>\n",
      "Only 1 Person in Frame\n",
      "type:  <class 'numpy.ndarray'>\n",
      "Only 1 Person in Frame\n",
      "type:  <class 'numpy.ndarray'>\n",
      "Only 1 Person in Frame\n",
      "type:  <class 'numpy.ndarray'>\n",
      "Only 1 Person in Frame\n",
      "type:  <class 'numpy.ndarray'>\n",
      "Only 1 Person in Frame\n",
      "type:  <class 'list'>\n",
      "type:  <class 'numpy.ndarray'>\n",
      "Only 1 Person in Frame\n",
      "type:  <class 'list'>\n",
      "type:  <class 'numpy.ndarray'>\n",
      "Only 1 Person in Frame\n",
      "type:  <class 'numpy.ndarray'>\n",
      "Only 1 Person in Frame\n",
      "type:  <class 'numpy.ndarray'>\n",
      "Only 1 Person in Frame\n",
      "type:  <class 'list'>\n",
      "type:  <class 'list'>\n",
      "type:  <class 'numpy.ndarray'>\n",
      "Only 1 Person in Frame\n",
      "type:  <class 'numpy.ndarray'>\n",
      "Only 1 Person in Frame\n",
      "type:  <class 'numpy.ndarray'>\n",
      "Only 1 Person in Frame\n",
      "type:  <class 'numpy.ndarray'>\n",
      "Only 1 Person in Frame\n",
      "type:  <class 'numpy.ndarray'>\n",
      "Only 1 Person in Frame\n",
      "type:  <class 'numpy.ndarray'>\n",
      "Only 1 Person in Frame\n",
      "type:  <class 'list'>\n",
      "type:  <class 'list'>\n",
      "type:  <class 'list'>\n",
      "type:  <class 'list'>\n",
      "type:  <class 'list'>\n",
      "type:  <class 'list'>\n",
      "type:  <class 'list'>\n",
      "type:  <class 'list'>\n",
      "type:  <class 'list'>\n",
      "type:  <class 'list'>\n",
      "type:  <class 'list'>\n",
      "type:  <class 'list'>\n",
      "type:  <class 'list'>\n",
      "type:  <class 'list'>\n",
      "type:  <class 'list'>\n",
      "type:  <class 'list'>\n",
      "type:  <class 'list'>\n",
      "type:  <class 'list'>\n",
      "type:  <class 'list'>\n",
      "type:  <class 'list'>\n",
      "type:  <class 'list'>\n",
      "type:  <class 'list'>\n",
      "type:  <class 'list'>\n",
      "type:  <class 'list'>\n",
      "type:  <class 'list'>\n",
      "type:  <class 'list'>\n",
      "type:  <class 'list'>\n",
      "type:  <class 'list'>\n",
      "type:  <class 'list'>\n",
      "type:  <class 'list'>\n",
      "type:  <class 'list'>\n",
      "type:  <class 'list'>\n",
      "type:  <class 'list'>\n",
      "type:  <class 'list'>\n",
      "type:  <class 'numpy.ndarray'>\n",
      "Only 1 Person in Frame\n",
      "type:  <class 'numpy.ndarray'>\n",
      "Only 1 Person in Frame\n",
      "type:  <class 'numpy.ndarray'>\n",
      "Only 1 Person in Frame\n",
      "type:  <class 'numpy.ndarray'>\n",
      "Only 1 Person in Frame\n",
      "type:  <class 'numpy.ndarray'>\n",
      "Only 1 Person in Frame\n",
      "type:  <class 'numpy.ndarray'>\n",
      "2 people in frame. Dist:  26.04401042367594\n",
      "type:  <class 'numpy.ndarray'>\n",
      "Only 1 Person in Frame\n",
      "type:  <class 'numpy.ndarray'>\n",
      "Only 1 Person in Frame\n",
      "type:  <class 'list'>\n",
      "type:  <class 'list'>\n",
      "type:  <class 'numpy.ndarray'>\n",
      "Only 1 Person in Frame\n",
      "type:  <class 'numpy.ndarray'>\n",
      "Only 1 Person in Frame\n",
      "type:  <class 'list'>\n",
      "type:  <class 'numpy.ndarray'>\n",
      "Only 1 Person in Frame\n",
      "type:  <class 'numpy.ndarray'>\n",
      "Only 1 Person in Frame\n",
      "type:  <class 'list'>\n",
      "type:  <class 'list'>\n",
      "type:  <class 'list'>\n",
      "type:  <class 'numpy.ndarray'>\n",
      "Only 1 Person in Frame\n",
      "type:  <class 'list'>\n",
      "type:  <class 'list'>\n",
      "type:  <class 'list'>\n",
      "type:  <class 'list'>\n",
      "type:  <class 'list'>\n",
      "type:  <class 'numpy.ndarray'>\n",
      "Only 1 Person in Frame\n",
      "type:  <class 'numpy.ndarray'>\n",
      "Only 1 Person in Frame\n",
      "type:  <class 'numpy.ndarray'>\n",
      "Only 1 Person in Frame\n",
      "type:  <class 'numpy.ndarray'>\n",
      "Only 1 Person in Frame\n",
      "type:  <class 'numpy.ndarray'>\n",
      "2 people in frame. Dist:  111.01425546137665\n",
      "type:  <class 'numpy.ndarray'>\n",
      "Only 1 Person in Frame\n",
      "type:  <class 'numpy.ndarray'>\n",
      "Only 1 Person in Frame\n",
      "type:  <class 'numpy.ndarray'>\n",
      "Only 1 Person in Frame\n",
      "type:  <class 'numpy.ndarray'>\n",
      "Only 1 Person in Frame\n",
      "type:  <class 'list'>\n",
      "type:  <class 'numpy.ndarray'>\n",
      "Only 1 Person in Frame\n",
      "type:  <class 'numpy.ndarray'>\n",
      "Only 1 Person in Frame\n",
      "type:  <class 'list'>\n",
      "type:  <class 'list'>\n",
      "type:  <class 'numpy.ndarray'>\n",
      "Only 1 Person in Frame\n",
      "type:  <class 'list'>\n",
      "type:  <class 'list'>\n",
      "type:  <class 'list'>\n",
      "type:  <class 'list'>\n",
      "type:  <class 'numpy.ndarray'>\n",
      "Only 1 Person in Frame\n",
      "type:  <class 'numpy.ndarray'>\n",
      "Only 1 Person in Frame\n",
      "type:  <class 'numpy.ndarray'>\n",
      "Only 1 Person in Frame\n",
      "type:  <class 'list'>\n",
      "type:  <class 'numpy.ndarray'>\n",
      "Only 1 Person in Frame\n",
      "type:  <class 'list'>\n",
      "type:  <class 'numpy.ndarray'>\n",
      "2 people in frame. Dist:  142.0066107018402\n",
      "type:  <class 'list'>\n",
      "type:  <class 'numpy.ndarray'>\n",
      "Only 1 Person in Frame\n",
      "type:  <class 'numpy.ndarray'>\n",
      "Only 1 Person in Frame\n",
      "type:  <class 'numpy.ndarray'>\n",
      "Only 1 Person in Frame\n",
      "type:  <class 'numpy.ndarray'>\n",
      "Only 1 Person in Frame\n",
      "type:  <class 'numpy.ndarray'>\n",
      "Only 1 Person in Frame\n",
      "type:  <class 'numpy.ndarray'>\n",
      "Only 1 Person in Frame\n",
      "type:  <class 'numpy.ndarray'>\n",
      "Only 1 Person in Frame\n",
      "type:  <class 'numpy.ndarray'>\n",
      "2 people in frame. Dist:  121.01307308282377\n",
      "type:  <class 'numpy.ndarray'>\n",
      "Only 1 Person in Frame\n",
      "type:  <class 'numpy.ndarray'>\n",
      "Only 1 Person in Frame\n",
      "type:  <class 'numpy.ndarray'>\n",
      "Only 1 Person in Frame\n",
      "type:  <class 'numpy.ndarray'>\n",
      "Only 1 Person in Frame\n",
      "type:  <class 'numpy.ndarray'>\n",
      "Only 1 Person in Frame\n",
      "type:  <class 'numpy.ndarray'>\n",
      "Only 1 Person in Frame\n",
      "type:  <class 'numpy.ndarray'>\n",
      "Only 1 Person in Frame\n",
      "type:  <class 'numpy.ndarray'>\n",
      "Only 1 Person in Frame\n",
      "type:  <class 'numpy.ndarray'>\n",
      "Only 1 Person in Frame\n",
      "type:  <class 'numpy.ndarray'>\n",
      "Only 1 Person in Frame\n",
      "type:  <class 'numpy.ndarray'>\n",
      "Only 1 Person in Frame\n",
      "type:  <class 'numpy.ndarray'>\n",
      "2 people in frame. Dist:  121.05819446181997\n",
      "type:  <class 'numpy.ndarray'>\n",
      "Only 1 Person in Frame\n",
      "type:  <class 'numpy.ndarray'>\n",
      "Only 1 Person in Frame\n",
      "type:  <class 'numpy.ndarray'>\n",
      "Only 1 Person in Frame\n",
      "type:  <class 'numpy.ndarray'>\n",
      "Only 1 Person in Frame\n",
      "type:  <class 'numpy.ndarray'>\n",
      "Only 1 Person in Frame\n",
      "type:  <class 'numpy.ndarray'>\n",
      "Only 1 Person in Frame\n",
      "type:  <class 'numpy.ndarray'>\n",
      "Only 1 Person in Frame\n",
      "type:  <class 'numpy.ndarray'>\n",
      "Only 1 Person in Frame\n",
      "type:  <class 'numpy.ndarray'>\n",
      "2 people in frame. Dist:  36.03404255319149\n",
      "type:  <class 'numpy.ndarray'>\n",
      "Only 1 Person in Frame\n",
      "type:  <class 'numpy.ndarray'>\n",
      "Only 1 Person in Frame\n",
      "type:  <class 'numpy.ndarray'>\n",
      "Only 1 Person in Frame\n",
      "type:  <class 'numpy.ndarray'>\n",
      "Only 1 Person in Frame\n",
      "type:  <class 'numpy.ndarray'>\n",
      "Only 1 Person in Frame\n",
      "type:  <class 'numpy.ndarray'>\n",
      "Only 1 Person in Frame\n",
      "type:  <class 'numpy.ndarray'>\n",
      "Only 1 Person in Frame\n",
      "type:  <class 'numpy.ndarray'>\n",
      "Only 1 Person in Frame\n",
      "type:  <class 'numpy.ndarray'>\n",
      "Only 1 Person in Frame\n",
      "type:  <class 'numpy.ndarray'>\n",
      "Only 1 Person in Frame\n",
      "type:  <class 'numpy.ndarray'>\n",
      "Only 1 Person in Frame\n",
      "type:  <class 'numpy.ndarray'>\n",
      "Only 1 Person in Frame\n",
      "type:  <class 'numpy.ndarray'>\n",
      "Only 1 Person in Frame\n",
      "type:  <class 'numpy.ndarray'>\n",
      "Only 1 Person in Frame\n",
      "type:  <class 'numpy.ndarray'>\n",
      "Only 1 Person in Frame\n",
      "type:  <class 'numpy.ndarray'>\n",
      "Only 1 Person in Frame\n",
      "type:  <class 'numpy.ndarray'>\n",
      "Only 1 Person in Frame\n",
      "type:  <class 'numpy.ndarray'>\n",
      "Only 1 Person in Frame\n",
      "type:  <class 'numpy.ndarray'>\n",
      "Only 1 Person in Frame\n",
      "type:  <class 'numpy.ndarray'>\n",
      "Only 1 Person in Frame\n",
      "type:  <class 'numpy.ndarray'>\n",
      "Only 1 Person in Frame\n",
      "type:  <class 'numpy.ndarray'>\n",
      "Only 1 Person in Frame\n",
      "type:  <class 'numpy.ndarray'>\n",
      "Only 1 Person in Frame\n",
      "type:  <class 'list'>\n"
     ]
    },
    {
     "name": "stdout",
     "output_type": "stream",
     "text": [
      "type:  <class 'numpy.ndarray'>\n",
      "Only 1 Person in Frame\n",
      "type:  <class 'numpy.ndarray'>\n",
      "Only 1 Person in Frame\n",
      "type:  <class 'numpy.ndarray'>\n",
      "Only 1 Person in Frame\n",
      "type:  <class 'numpy.ndarray'>\n",
      "2 people in frame. Dist:  122.06113640644276\n",
      "type:  <class 'numpy.ndarray'>\n",
      "Only 1 Person in Frame\n",
      "type:  <class 'numpy.ndarray'>\n",
      "Only 1 Person in Frame\n",
      "type:  <class 'numpy.ndarray'>\n",
      "Only 1 Person in Frame\n",
      "type:  <class 'numpy.ndarray'>\n",
      "Only 1 Person in Frame\n",
      "type:  <class 'numpy.ndarray'>\n",
      "Only 1 Person in Frame\n",
      "type:  <class 'numpy.ndarray'>\n",
      "Only 1 Person in Frame\n",
      "type:  <class 'numpy.ndarray'>\n",
      "Only 1 Person in Frame\n",
      "type:  <class 'numpy.ndarray'>\n",
      "Only 1 Person in Frame\n",
      "type:  <class 'numpy.ndarray'>\n",
      "Only 1 Person in Frame\n",
      "type:  <class 'numpy.ndarray'>\n",
      "Only 1 Person in Frame\n",
      "type:  <class 'numpy.ndarray'>\n",
      "Only 1 Person in Frame\n",
      "type:  <class 'numpy.ndarray'>\n",
      "Only 1 Person in Frame\n",
      "type:  <class 'numpy.ndarray'>\n",
      "Only 1 Person in Frame\n",
      "type:  <class 'numpy.ndarray'>\n",
      "Only 1 Person in Frame\n",
      "type:  <class 'numpy.ndarray'>\n",
      "Only 1 Person in Frame\n",
      "type:  <class 'list'>\n",
      "type:  <class 'numpy.ndarray'>\n",
      "2 people in frame. Dist:  121.00658815687225\n",
      "type:  <class 'list'>\n",
      "type:  <class 'numpy.ndarray'>\n",
      "Only 1 Person in Frame\n",
      "type:  <class 'numpy.ndarray'>\n",
      "Only 1 Person in Frame\n",
      "type:  <class 'numpy.ndarray'>\n",
      "More than 2 people in Frame\n",
      "type:  <class 'numpy.ndarray'>\n",
      "2 people in frame. Dist:  168.00676888169042\n",
      "type:  <class 'list'>\n",
      "type:  <class 'list'>\n",
      "type:  <class 'list'>\n",
      "type:  <class 'numpy.ndarray'>\n",
      "Only 1 Person in Frame\n",
      "type:  <class 'list'>\n",
      "type:  <class 'list'>\n",
      "type:  <class 'list'>\n",
      "type:  <class 'list'>\n",
      "type:  <class 'list'>\n"
     ]
    }
   ],
   "source": [
<<<<<<< HEAD
<<<<<<< HEAD
=======
    "label_d = {0:\"No_Mask\",1:\"Mask\"}\n",
    "\n",
>>>>>>> 3c47c5d8a6ce1cb1e287e042f541015c671a1e14
=======
    "label_d = {0:\"No_Mask\",1:\"Mask\"}\n",
    "\n",
>>>>>>> 3c47c5d8a6ce1cb1e287e042f541015c671a1e14
    "while(True):\n",
    "    # Capture frame-by-frame\n",
    "    ret, frame = cap.read()\n",
    "\n",
    "    # resizing for faster detection\n",
    "    frame = cv2.resize(frame, (640, 480))\n",
    "    # flipping image to mirror\n",
    "    frame =cv2.flip(frame,1,1) \n",
    "    \n",
    "    # using a greyscale picture, also for faster detection\n",
    "    gray = cv2.cvtColor(frame, cv2.COLOR_RGB2GRAY)\n",
    "    \n",
    "    # detect people in the image\n",
    "    # returns the bounding boxes for the detected people\n",
    "    # TRY WITH GRAY AND FRAME\n",
    "    body_boxes, weights = body_det.detectMultiScale(gray, winStride=(8,8) )\n",
    "    body_boxes = np.array([[x, y, x + w, y + h] for (x, y, w, h) in body_boxes])\n",
    "    \n",
    "    # detect faces in the image\n",
    "    # returns the bounding boxes for the detected faces\n",
    "    face_boxes = face_det.detectMultiScale(gray)\n",
    "    face_boxes = np.array([[x, y, x + w, y + h] for (x, y, w, h) in face_boxes])\n",
    "    \n",
    "    # apply non-maxima suppression to the bounding boxes using overlap threshold to try to maintain overlapping\n",
    "    # boxes that are still identificable\n",
    "    body_pick = non_max_suppression(body_boxes, probs=None, overlapThresh=0.8)\n",
    "    face_pick = non_max_suppression(face_boxes, probs=None, overlapThresh=0.8)\n",
    "    \n",
    "    # Testing Results\n",
    "    #print(\"body_pick: \",body_pick)\n",
    "    print(\"type: \",type(body_pick))\n",
    "    #print(\"dimentions: \", body_pick.shape)\n",
    "    \n",
<<<<<<< HEAD
    "    # Checking Dimentions and printing\n",
    "    check_dist(body_pick)\n",
=======
<<<<<<< HEAD
<<<<<<< HEAD
    "    for (xA, yA, xB, yB) in body_boxes:\n",
    "        # display the detected boxes in the colour picture\n",
    "        cv2.rectangle(frame, (xA, yA), (xB, yB), (0, 255, 0), 2)\n",
    "        cv2.putText(frame, \"human\", (xA, yA-10),cv2.FONT_HERSHEY_SIMPLEX,0.8,(255,255,255),2)\n",
    "        \n",
    "    for (xA, yA, xB, yB) in face_boxes:\n",
    "        # display the detected boxes in the colour picture\n",
    "        cv2.rectangle(frame, (xA, yA), (xB, yB), (255, 0, 0), 2)\n",
    "        \n",
    "    \n",
=======
=======
>>>>>>> 3c47c5d8a6ce1cb1e287e042f541015c671a1e14
>>>>>>> 14999b48d1ad385287342cfaf42497e1c3b09641
    "    \n",
    "    for (xA, yA, xB, yB) in body_pick:\n",
    "        # display the detected boxes in the colour picture\n",
    "        cv2.rectangle(frame, (xA, yA), (xB, yB), (0, 255, 0), 2)\n",
    "        cv2.putText(frame, \"human\", (xA, yA-10),cv2.FONT_HERSHEY_SIMPLEX,0.5,(255,255,255),2)\n",
    "        \n",
    "        #print(\"points: {},{},{},{}\".format(xA, yA, xB, yB))\n",
    "        \n",
    "    for (xA, yA, xB, yB) in face_pick:\n",
    "        # display the detected boxes in the colour picture\n",
    "        cv2.rectangle(frame, (xA, yA), (xB, yB), (255, 0, 0), 2)\n",
    "        cv2.putText(frame, \"face\", (xA, yA-10),cv2.FONT_HERSHEY_SIMPLEX,0.5,(255,255,255),2)\n",
    "        \n",
<<<<<<< HEAD
    "        \n",
    "        \n",
=======
<<<<<<< HEAD
>>>>>>> 3c47c5d8a6ce1cb1e287e042f541015c671a1e14
=======
>>>>>>> 3c47c5d8a6ce1cb1e287e042f541015c671a1e14
>>>>>>> 14999b48d1ad385287342cfaf42497e1c3b09641
    "    # Write the output video \n",
    "    out.write(frame.astype('uint8'))\n",
    "    # Display the resulting frame\n",
    "    cv2.imshow('frame',frame)\n",
    "    if cv2.waitKey(1) & 0xFF == ord('q'):\n",
    "        break\n",
    "\n",
    "# When everything done, release the capture\n",
    "cap.release()\n",
    "# and release the output\n",
    "out.release()\n",
    "# finally, close the window\n",
    "for i in range(1,10):\n",
    "    cv2.destroyAllWindows()\n",
    "    cv2.waitKey(1)"
   ]
  },
  {
   "cell_type": "code",
<<<<<<< HEAD
   "execution_count": 7,
=======
<<<<<<< HEAD
<<<<<<< HEAD
   "execution_count": null,
=======
   "execution_count": 13,
>>>>>>> 3c47c5d8a6ce1cb1e287e042f541015c671a1e14
=======
   "execution_count": 13,
>>>>>>> 3c47c5d8a6ce1cb1e287e042f541015c671a1e14
>>>>>>> 14999b48d1ad385287342cfaf42497e1c3b09641
   "metadata": {},
   "outputs": [],
   "source": [
    "# When everything done, release the capture\n",
    "cap.release()\n",
    "# and release the output\n",
<<<<<<< HEAD
    "out.release()\n",
=======
<<<<<<< HEAD
<<<<<<< HEAD
    "out.release()\n",
=======
    "# out.release()\n",
>>>>>>> 3c47c5d8a6ce1cb1e287e042f541015c671a1e14
=======
    "# out.release()\n",
>>>>>>> 3c47c5d8a6ce1cb1e287e042f541015c671a1e14
>>>>>>> 14999b48d1ad385287342cfaf42497e1c3b09641
    "# finally, close the window\n",
    "for i in range(1,10):\n",
    "    cv2.destroyAllWindows()\n",
    "    cv2.waitKey(1)"
   ]
  },
  {
   "cell_type": "code",
   "execution_count": null,
   "metadata": {},
   "outputs": [],
   "source": []
  },
  {
   "cell_type": "code",
   "execution_count": 19,
   "metadata": {},
   "outputs": [
    {
     "name": "stdout",
     "output_type": "stream",
     "text": [
      "2.1436781609195403\n",
      "64902\n"
     ]
    }
   ],
   "source": [
    "hL = 440-67\n",
    "wL = 400-226\n",
    "rL=hL/wL\n",
    "areaL = hL*wL\n",
    "print(rL)\n",
    "print(areaL)\n"
   ]
  },
  {
   "cell_type": "code",
   "execution_count": 20,
   "metadata": {},
   "outputs": [
    {
     "name": "stdout",
     "output_type": "stream",
     "text": [
      "2.0328947368421053\n",
      "46968\n"
     ]
    }
   ],
   "source": [
    "hS = 403-94\n",
    "wS = 406-254\n",
    "rS=hS/wS\n",
    "areaS=hS*wS\n",
    "print(rS)\n",
    "print(areaS)"
   ]
  },
  {
   "cell_type": "code",
   "execution_count": 21,
   "metadata": {},
   "outputs": [
    {
     "name": "stdout",
     "output_type": "stream",
     "text": [
      "1.2071197411003236\n",
      "1.144736842105263\n",
      "1.3818344404701073\n"
     ]
    }
   ],
   "source": [
    "rh = hL/hS\n",
    "rw = wL/wS\n",
    "rarea=areaL/areaS\n",
    "print(rh)\n",
    "print(rw)\n",
    "print(rarea)"
   ]
  },
  {
   "cell_type": "code",
   "execution_count": 80,
   "metadata": {},
   "outputs": [
    {
     "name": "stdout",
     "output_type": "stream",
     "text": [
      "[0 1 2 3]\n",
      "[4 5 6 7]\n"
     ]
    }
   ],
   "source": [
    "array = np.arange(8).reshape(2,4)\n",
    "print(array[0,])\n",
    "print(array[1,])"
   ]
  },
  {
   "cell_type": "code",
   "execution_count": 6,
   "metadata": {},
   "outputs": [],
   "source": [
    "def check_dist(array):\n",
    "    if isinstance(array, (np.ndarray, np.generic) ) == True:\n",
    "        if array.shape[0] > 2:\n",
    "            print(\"More than 2 people in Frame\")\n",
    "        elif array.shape[0] <= 1:\n",
    "            print(\"Only 1 Person in Frame\")\n",
    "        elif array.shape[0] == 2:\n",
    "            dist = calc_dist_xz(array)\n",
    "            print(\"2 people in frame. Dist: \",dist)\n",
    "    else:\n",
    "        pass"
   ]
  },
  {
   "cell_type": "code",
   "execution_count": 5,
   "metadata": {},
   "outputs": [],
   "source": [
    "def calc_dist_xz(array, k =1.2):\n",
    "    dH1 = array[0,0]-array[1,0]\n",
    "    dH2 = array[0,2]-array[1,2]\n",
    "    dH_av = abs(mean([dH1,dH2]))\n",
    "\n",
    "    h1 = abs(array[0,1]-array[0,3])\n",
    "    h2 = abs(array[1,1]-array[1,3])\n",
    "\n",
    "\n",
    "    dZ1 = (h1/h2)*k\n",
    "    dZ2 = (h2/h1)*k\n",
    "    dZ_max = max(dZ1,dZ2)\n",
    "\n",
    "    dR = math.sqrt(dZ_max**2+dH_av**2)\n",
    "    return dR"
   ]
  },
  {
   "cell_type": "code",
   "execution_count": null,
   "metadata": {},
   "outputs": [],
   "source": [
    "def calc_dist_xy(array, k =1.2):\n",
    "    dH1 = array[0,0]-array[1,0]\n",
    "    dH2 = array[0,2]-array[1,2]\n",
    "    dH_av = abs(mean([dH1,dH2]))\n",
    "\n",
    "    dW1 = array[0,0]-array[1,0]\n",
    "    dW2 = array[0,2]-array[1,2]\n",
    "    dW_av = abs(mean([dW1,dW2]))\n",
    "\n",
    "    dR = math.sqrt(dH_av**2+dW_av**2)\n",
    "    return dR"
   ]
  },
  {
   "cell_type": "code",
   "execution_count": 3,
   "metadata": {},
   "outputs": [
    {
     "ename": "NameError",
     "evalue": "name 'array' is not defined",
     "output_type": "error",
     "traceback": [
      "\u001b[0;31m---------------------------------------------------------------------------\u001b[0m",
      "\u001b[0;31mNameError\u001b[0m                                 Traceback (most recent call last)",
      "\u001b[0;32m<ipython-input-3-77e163987fcb>\u001b[0m in \u001b[0;36m<module>\u001b[0;34m\u001b[0m\n\u001b[0;32m----> 1\u001b[0;31m \u001b[0mcheck_dist\u001b[0m\u001b[0;34m(\u001b[0m\u001b[0marray\u001b[0m\u001b[0;34m)\u001b[0m\u001b[0;34m\u001b[0m\u001b[0;34m\u001b[0m\u001b[0m\n\u001b[0m",
      "\u001b[0;31mNameError\u001b[0m: name 'array' is not defined"
     ]
    }
   ],
   "source": [
    "check_dist(array)"
   ]
  },
  {
   "cell_type": "code",
   "execution_count": 14,
   "metadata": {},
   "outputs": [
    {
     "ename": "OSError",
     "evalue": "Unable to load sound named: file:///Users/juliorenteria/dev/Jupyter Notebook/Hackify Hackathon 2020/sample.mp3",
     "output_type": "error",
     "traceback": [
      "\u001b[0;31m---------------------------------------------------------------------------\u001b[0m",
      "\u001b[0;31mOSError\u001b[0m                                   Traceback (most recent call last)",
      "\u001b[0;32m<ipython-input-14-e95e0297834b>\u001b[0m in \u001b[0;36m<module>\u001b[0;34m\u001b[0m\n\u001b[1;32m      1\u001b[0m \u001b[0;32mfrom\u001b[0m \u001b[0mplaysound\u001b[0m \u001b[0;32mimport\u001b[0m \u001b[0mplaysound\u001b[0m\u001b[0;34m\u001b[0m\u001b[0;34m\u001b[0m\u001b[0m\n\u001b[0;32m----> 2\u001b[0;31m \u001b[0mplaysound\u001b[0m\u001b[0;34m(\u001b[0m\u001b[0;34m\"sample.mp3\"\u001b[0m\u001b[0;34m)\u001b[0m\u001b[0;34m\u001b[0m\u001b[0;34m\u001b[0m\u001b[0m\n\u001b[0m",
      "\u001b[0;32m/Library/Frameworks/Python.framework/Versions/3.7/lib/python3.7/site-packages/playsound.py\u001b[0m in \u001b[0;36m_playsoundOSX\u001b[0;34m(sound, block)\u001b[0m\n\u001b[1;32m     65\u001b[0m     \u001b[0mnssound\u001b[0m \u001b[0;34m=\u001b[0m \u001b[0mNSSound\u001b[0m\u001b[0;34m.\u001b[0m\u001b[0malloc\u001b[0m\u001b[0;34m(\u001b[0m\u001b[0;34m)\u001b[0m\u001b[0;34m.\u001b[0m\u001b[0minitWithContentsOfURL_byReference_\u001b[0m\u001b[0;34m(\u001b[0m\u001b[0murl\u001b[0m\u001b[0;34m,\u001b[0m \u001b[0;32mTrue\u001b[0m\u001b[0;34m)\u001b[0m\u001b[0;34m\u001b[0m\u001b[0;34m\u001b[0m\u001b[0m\n\u001b[1;32m     66\u001b[0m     \u001b[0;32mif\u001b[0m \u001b[0;32mnot\u001b[0m \u001b[0mnssound\u001b[0m\u001b[0;34m:\u001b[0m\u001b[0;34m\u001b[0m\u001b[0;34m\u001b[0m\u001b[0m\n\u001b[0;32m---> 67\u001b[0;31m         \u001b[0;32mraise\u001b[0m \u001b[0mIOError\u001b[0m\u001b[0;34m(\u001b[0m\u001b[0;34m'Unable to load sound named: '\u001b[0m \u001b[0;34m+\u001b[0m \u001b[0msound\u001b[0m\u001b[0;34m)\u001b[0m\u001b[0;34m\u001b[0m\u001b[0;34m\u001b[0m\u001b[0m\n\u001b[0m\u001b[1;32m     68\u001b[0m     \u001b[0mnssound\u001b[0m\u001b[0;34m.\u001b[0m\u001b[0mplay\u001b[0m\u001b[0;34m(\u001b[0m\u001b[0;34m)\u001b[0m\u001b[0;34m\u001b[0m\u001b[0;34m\u001b[0m\u001b[0m\n\u001b[1;32m     69\u001b[0m \u001b[0;34m\u001b[0m\u001b[0m\n",
      "\u001b[0;31mOSError\u001b[0m: Unable to load sound named: file:///Users/juliorenteria/dev/Jupyter Notebook/Hackify Hackathon 2020/sample.mp3"
     ]
    }
   ],
   "source": [
    "from playsound import playsound\n",
    "playsound(\"sample.mp3\")"
   ]
  },
  {
   "cell_type": "code",
   "execution_count": null,
   "metadata": {},
   "outputs": [],
   "source": []
  }
 ],
 "metadata": {
  "kernelspec": {
   "display_name": "Python 3",
   "language": "python",
   "name": "python3"
  },
  "language_info": {
   "codemirror_mode": {
    "name": "ipython",
    "version": 3
   },
   "file_extension": ".py",
   "mimetype": "text/x-python",
   "name": "python",
   "nbconvert_exporter": "python",
   "pygments_lexer": "ipython3",
   "version": "3.7.3"
  }
 },
 "nbformat": 4,
 "nbformat_minor": 4
}
